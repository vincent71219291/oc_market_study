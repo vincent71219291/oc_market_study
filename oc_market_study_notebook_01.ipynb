{
 "cells": [
  {
   "cell_type": "markdown",
   "id": "8a296632",
   "metadata": {
    "toc": true
   },
   "source": [
    "<h1>Table of Contents<span class=\"tocSkip\"></span></h1>\n",
    "<div class=\"toc\"><ul class=\"toc-item\"><li><span><a href=\"#Introduction\" data-toc-modified-id=\"Introduction-1\"><span class=\"toc-item-num\">1&nbsp;&nbsp;</span>Introduction</a></span><ul class=\"toc-item\"><li><span><a href=\"#Choix-des-variables\" data-toc-modified-id=\"Choix-des-variables-1.1\"><span class=\"toc-item-num\">1.1&nbsp;&nbsp;</span>Choix des variables</a></span></li></ul></li><li><span><a href=\"#Préparation-des-données\" data-toc-modified-id=\"Préparation-des-données-2\"><span class=\"toc-item-num\">2&nbsp;&nbsp;</span>Préparation des données</a></span><ul class=\"toc-item\"><li><span><a href=\"#Source-des-données\" data-toc-modified-id=\"Source-des-données-2.1\"><span class=\"toc-item-num\">2.1&nbsp;&nbsp;</span>Source des données</a></span></li><li><span><a href=\"#Import-des-données\" data-toc-modified-id=\"Import-des-données-2.2\"><span class=\"toc-item-num\">2.2&nbsp;&nbsp;</span>Import des données</a></span></li><li><span><a href=\"#Nettoyage-des-données\" data-toc-modified-id=\"Nettoyage-des-données-2.3\"><span class=\"toc-item-num\">2.3&nbsp;&nbsp;</span>Nettoyage des données</a></span><ul class=\"toc-item\"><li><span><a href=\"#Disponibilité-alimentaire-en-viande-de-volailles\" data-toc-modified-id=\"Disponibilité-alimentaire-en-viande-de-volailles-2.3.1\"><span class=\"toc-item-num\">2.3.1&nbsp;&nbsp;</span>Disponibilité alimentaire en viande de volailles</a></span></li><li><span><a href=\"#Part-de-la-viande-de-volailles-dans-la-disponibilité-alimentaire-totale\" data-toc-modified-id=\"Part-de-la-viande-de-volailles-dans-la-disponibilité-alimentaire-totale-2.3.2\"><span class=\"toc-item-num\">2.3.2&nbsp;&nbsp;</span>Part de la viande de volailles dans la disponibilité alimentaire totale</a></span></li><li><span><a href=\"#Part-des-importations-(tous-produits)-dans-les-disponibilités\" data-toc-modified-id=\"Part-des-importations-(tous-produits)-dans-les-disponibilités-2.3.3\"><span class=\"toc-item-num\">2.3.3&nbsp;&nbsp;</span>Part des importations (tous produits) dans les disponibilités</a></span></li><li><span><a href=\"#Population\" data-toc-modified-id=\"Population-2.3.4\"><span class=\"toc-item-num\">2.3.4&nbsp;&nbsp;</span>Population</a></span></li><li><span><a href=\"#Taux-de-croissance-annuel-composé-de-la-population-(2007-2017)\" data-toc-modified-id=\"Taux-de-croissance-annuel-composé-de-la-population-(2007-2017)-2.3.5\"><span class=\"toc-item-num\">2.3.5&nbsp;&nbsp;</span>Taux de croissance annuel composé de la population (2007-2017)</a></span></li><li><span><a href=\"#PIB\" data-toc-modified-id=\"PIB-2.3.6\"><span class=\"toc-item-num\">2.3.6&nbsp;&nbsp;</span>PIB</a></span></li><li><span><a href=\"#Indicateurs-de-gouvernance\" data-toc-modified-id=\"Indicateurs-de-gouvernance-2.3.7\"><span class=\"toc-item-num\">2.3.7&nbsp;&nbsp;</span>Indicateurs de gouvernance</a></span></li><li><span><a href=\"#Distance-à-la-France\" data-toc-modified-id=\"Distance-à-la-France-2.3.8\"><span class=\"toc-item-num\">2.3.8&nbsp;&nbsp;</span>Distance à la France</a></span></li></ul></li><li><span><a href=\"#Jointure-des-tables\" data-toc-modified-id=\"Jointure-des-tables-2.4\"><span class=\"toc-item-num\">2.4&nbsp;&nbsp;</span>Jointure des tables</a></span><ul class=\"toc-item\"><li><span><a href=\"#Jointure-entre-les-tables-dispo_alim_vol-et-dispo_alim_vol_pct\" data-toc-modified-id=\"Jointure-entre-les-tables-dispo_alim_vol-et-dispo_alim_vol_pct-2.4.1\"><span class=\"toc-item-num\">2.4.1&nbsp;&nbsp;</span>Jointure entre les tables <code>dispo_alim_vol</code> et <code>dispo_alim_vol_pct</code></a></span></li><li><span><a href=\"#Jointure-entre-les-tables-data-et-import_tot_pct\" data-toc-modified-id=\"Jointure-entre-les-tables-data-et-import_tot_pct-2.4.2\"><span class=\"toc-item-num\">2.4.2&nbsp;&nbsp;</span>Jointure entre les tables <code>data</code> et <code>import_tot_pct</code></a></span></li><li><span><a href=\"#Jointure-entre-les-tables-data-et-pop\" data-toc-modified-id=\"Jointure-entre-les-tables-data-et-pop-2.4.3\"><span class=\"toc-item-num\">2.4.3&nbsp;&nbsp;</span>Jointure entre les tables <code>data</code> et <code>pop</code></a></span></li><li><span><a href=\"#Jointure-entre-les-tables-data-et-taux_croissance_pop\" data-toc-modified-id=\"Jointure-entre-les-tables-data-et-taux_croissance_pop-2.4.4\"><span class=\"toc-item-num\">2.4.4&nbsp;&nbsp;</span>Jointure entre les tables <code>data</code> et <code>taux_croissance_pop</code></a></span></li><li><span><a href=\"#Jointure-entre-les-tables-data-et-pib\" data-toc-modified-id=\"Jointure-entre-les-tables-data-et-pib-2.4.5\"><span class=\"toc-item-num\">2.4.5&nbsp;&nbsp;</span>Jointure entre les tables <code>data</code> et <code>pib</code></a></span></li><li><span><a href=\"#Jointure-entre-les-tables-data-et-gov_indicators\" data-toc-modified-id=\"Jointure-entre-les-tables-data-et-gov_indicators-2.4.6\"><span class=\"toc-item-num\">2.4.6&nbsp;&nbsp;</span>Jointure entre les tables <code>data</code> et <code>gov_indicators</code></a></span></li><li><span><a href=\"#Jointure-entre-les-tables-data-et-country_coords\" data-toc-modified-id=\"Jointure-entre-les-tables-data-et-country_coords-2.4.7\"><span class=\"toc-item-num\">2.4.7&nbsp;&nbsp;</span>Jointure entre les tables <code>data</code> et <code>country_coords</code></a></span></li><li><span><a href=\"#Résultat-des-jointures\" data-toc-modified-id=\"Résultat-des-jointures-2.4.8\"><span class=\"toc-item-num\">2.4.8&nbsp;&nbsp;</span>Résultat des jointures</a></span></li></ul></li><li><span><a href=\"#Imputation-des-données\" data-toc-modified-id=\"Imputation-des-données-2.5\"><span class=\"toc-item-num\">2.5&nbsp;&nbsp;</span>Imputation des données</a></span><ul class=\"toc-item\"><li><span><a href=\"#Valeurs-de-production-et-exportations-manquantes\" data-toc-modified-id=\"Valeurs-de-production-et-exportations-manquantes-2.5.1\"><span class=\"toc-item-num\">2.5.1&nbsp;&nbsp;</span>Valeurs de production et exportations manquantes</a></span></li><li><span><a href=\"#Valeur-des-exportations-manquante\" data-toc-modified-id=\"Valeur-des-exportations-manquante-2.5.2\"><span class=\"toc-item-num\">2.5.2&nbsp;&nbsp;</span>Valeur des exportations manquante</a></span></li><li><span><a href=\"#Valeur-des-importations-manquante\" data-toc-modified-id=\"Valeur-des-importations-manquante-2.5.3\"><span class=\"toc-item-num\">2.5.3&nbsp;&nbsp;</span>Valeur des importations manquante</a></span></li><li><span><a href=\"#Taux-de-croissance-annuel-composé-de-la-population\" data-toc-modified-id=\"Taux-de-croissance-annuel-composé-de-la-population-2.5.4\"><span class=\"toc-item-num\">2.5.4&nbsp;&nbsp;</span>Taux de croissance annuel composé de la population</a></span></li><li><span><a href=\"#PIB\" data-toc-modified-id=\"PIB-2.5.5\"><span class=\"toc-item-num\">2.5.5&nbsp;&nbsp;</span>PIB</a></span></li><li><span><a href=\"#Indicateurs-de-gouvernance\" data-toc-modified-id=\"Indicateurs-de-gouvernance-2.5.6\"><span class=\"toc-item-num\">2.5.6&nbsp;&nbsp;</span>Indicateurs de gouvernance</a></span></li><li><span><a href=\"#Latitude-et-longitude\" data-toc-modified-id=\"Latitude-et-longitude-2.5.7\"><span class=\"toc-item-num\">2.5.7&nbsp;&nbsp;</span>Latitude et longitude</a></span></li></ul></li><li><span><a href=\"#Sélection-finale-des-variables\" data-toc-modified-id=\"Sélection-finale-des-variables-2.6\"><span class=\"toc-item-num\">2.6&nbsp;&nbsp;</span>Sélection finale des variables</a></span></li></ul></li></ul></div>"
   ]
  },
  {
   "cell_type": "code",
   "execution_count": 1,
   "id": "2b9a12da",
   "metadata": {},
   "outputs": [],
   "source": [
    "import numpy as np\n",
    "import pandas as pd\n",
    "import matplotlib.pyplot as plt\n",
    "import seaborn as sns\n",
    "from geopy import distance"
   ]
  },
  {
   "attachments": {},
   "cell_type": "markdown",
   "id": "90f2a7ca-3706-4b20-a2c8-69a012a73efc",
   "metadata": {},
   "source": [
    "# Introduction\n",
    "Dans le scénario du projet, nous sommes data analyst pour une entreprise agroalimentaire qui ambitionne de se développer à l'étranger. Nous avons été chargé d'identifier des pays cibles pour l'exportation de volailles.\n",
    "\n",
    "La première étape consiste à identifier des variables qui nous permettraient d'identifier les pays cibles.\n",
    "\n",
    "## Choix des variables\n",
    "Les variables retenues sont listées ci-dessous.\n",
    "\n",
    "- Taille du marché\n",
    "    - Population\n",
    "    - Disponibilité intérieure\n",
    "    - PIB\n",
    "- Origine de la disponibilité intérieure en viande de volailles\n",
    "    - Production de viande de volailles\n",
    "    - Importations de viande de vollailes\n",
    "    - Part des importations de tous les produits dans les disponibilités  \n",
    "- Niveau de vie du pays\n",
    "    - PIB par habitant\n",
    "- Stabilité politique (notion de sécurité du marché)\n",
    "- Distance à la France\n",
    "- Potentiel de croissance du marché\n",
    "    - Croissance annuelle de la population"
   ]
  },
  {
   "cell_type": "markdown",
   "id": "56ae321b",
   "metadata": {},
   "source": [
    "# Préparation des données"
   ]
  },
  {
   "attachments": {},
   "cell_type": "markdown",
   "id": "de651e58",
   "metadata": {},
   "source": [
    "## Source des données\n",
    "Disponibilité alimentaire, population, PIB :<br>\n",
    "https://www.fao.org/faostat/fr/#data\n",
    "\n",
    "Indicateurs de gourvernance (stabilité politique, etc.) :<br>\n",
    "https://databank.worldbank.org/home<br>\n",
    "\n",
    "Coordonnées des pays :<br>\n",
    "https://developers.google.com/public-data/docs/canonical/countries_csv"
   ]
  },
  {
   "cell_type": "markdown",
   "id": "ac2218fe",
   "metadata": {},
   "source": [
    "## Import des données"
   ]
  },
  {
   "cell_type": "code",
   "execution_count": 2,
   "id": "5043b18e",
   "metadata": {},
   "outputs": [],
   "source": [
    "dispo_alim_all_prods_2017_raw = pd.read_csv('../data/dispo_alim_all_prods_2017.csv')\n",
    "pop_2007_to_2017_raw = pd.read_csv('../data/pop_2007_to_2017.csv')\n",
    "pib_2017_raw = pd.read_csv('../data/pib_2017.csv')\n",
    "gov_indicators_raw = pd.read_csv('../data/governance_indicators.csv')\n",
    "country_coords = pd.read_csv('../data/country_coords.csv')\n",
    "iso2 = pd.read_csv('../data/iso2.csv')\n",
    "iso3 = pd.read_csv('../data/iso3.csv')"
   ]
  },
  {
   "cell_type": "markdown",
   "id": "dd0423cb",
   "metadata": {},
   "source": [
    "## Nettoyage des données"
   ]
  },
  {
   "cell_type": "code",
   "execution_count": 3,
   "id": "fab3efba-af14-448e-9212-6ed5fcb6dcbd",
   "metadata": {},
   "outputs": [],
   "source": [
    "def format_col_name(col_name):\n",
    "    replace_dict = {\n",
    "        ' ': '_',\n",
    "        '(': '',\n",
    "        ')': '',\n",
    "        '/': '_',\n",
    "        'é': 'e',\n",
    "        'è': 'e'\n",
    "    }\n",
    "    col_name = col_name.lower()\n",
    "    for old, new in replace_dict.items():\n",
    "        col_name = col_name.replace(old, new)\n",
    "    return col_name"
   ]
  },
  {
   "cell_type": "markdown",
   "id": "3af694bc",
   "metadata": {},
   "source": [
    "### Disponibilité alimentaire en viande de volailles"
   ]
  },
  {
   "cell_type": "code",
   "execution_count": 4,
   "id": "2b631ced",
   "metadata": {},
   "outputs": [],
   "source": [
    "dispo_alim_all_prods_2017 = dispo_alim_all_prods_2017_raw.copy()"
   ]
  },
  {
   "cell_type": "code",
   "execution_count": 5,
   "id": "43a2f32b-7c23-4053-8668-be14a5000edf",
   "metadata": {},
   "outputs": [
    {
     "data": {
      "text/html": [
       "<div>\n",
       "<style scoped>\n",
       "    .dataframe tbody tr th:only-of-type {\n",
       "        vertical-align: middle;\n",
       "    }\n",
       "\n",
       "    .dataframe tbody tr th {\n",
       "        vertical-align: top;\n",
       "    }\n",
       "\n",
       "    .dataframe thead th {\n",
       "        text-align: right;\n",
       "    }\n",
       "</style>\n",
       "<table border=\"1\" class=\"dataframe\">\n",
       "  <thead>\n",
       "    <tr style=\"text-align: right;\">\n",
       "      <th></th>\n",
       "      <th>Code Domaine</th>\n",
       "      <th>Domaine</th>\n",
       "      <th>Code zone (ISO3)</th>\n",
       "      <th>Zone</th>\n",
       "      <th>Code Élément</th>\n",
       "      <th>Élément</th>\n",
       "      <th>Code Produit (CPC)</th>\n",
       "      <th>Produit</th>\n",
       "      <th>Code année</th>\n",
       "      <th>Année</th>\n",
       "      <th>Unité</th>\n",
       "      <th>Valeur</th>\n",
       "      <th>Symbole</th>\n",
       "      <th>Description du Symbole</th>\n",
       "    </tr>\n",
       "  </thead>\n",
       "  <tbody>\n",
       "    <tr>\n",
       "      <th>0</th>\n",
       "      <td>FBS</td>\n",
       "      <td>Bilans Alimentaires (2010-)</td>\n",
       "      <td>AFG</td>\n",
       "      <td>Afghanistan</td>\n",
       "      <td>5511</td>\n",
       "      <td>Production</td>\n",
       "      <td>S2511</td>\n",
       "      <td>Blé et produits</td>\n",
       "      <td>2017</td>\n",
       "      <td>2017</td>\n",
       "      <td>Milliers de tonnes</td>\n",
       "      <td>4281.0</td>\n",
       "      <td>I</td>\n",
       "      <td>Valeur imputée</td>\n",
       "    </tr>\n",
       "    <tr>\n",
       "      <th>1</th>\n",
       "      <td>FBS</td>\n",
       "      <td>Bilans Alimentaires (2010-)</td>\n",
       "      <td>AFG</td>\n",
       "      <td>Afghanistan</td>\n",
       "      <td>5611</td>\n",
       "      <td>Importations - Quantité</td>\n",
       "      <td>S2511</td>\n",
       "      <td>Blé et produits</td>\n",
       "      <td>2017</td>\n",
       "      <td>2017</td>\n",
       "      <td>Milliers de tonnes</td>\n",
       "      <td>3080.0</td>\n",
       "      <td>I</td>\n",
       "      <td>Valeur imputée</td>\n",
       "    </tr>\n",
       "    <tr>\n",
       "      <th>2</th>\n",
       "      <td>FBS</td>\n",
       "      <td>Bilans Alimentaires (2010-)</td>\n",
       "      <td>AFG</td>\n",
       "      <td>Afghanistan</td>\n",
       "      <td>5072</td>\n",
       "      <td>Variation de stock</td>\n",
       "      <td>S2511</td>\n",
       "      <td>Blé et produits</td>\n",
       "      <td>2017</td>\n",
       "      <td>2017</td>\n",
       "      <td>Milliers de tonnes</td>\n",
       "      <td>208.0</td>\n",
       "      <td>I</td>\n",
       "      <td>Valeur imputée</td>\n",
       "    </tr>\n",
       "  </tbody>\n",
       "</table>\n",
       "</div>"
      ],
      "text/plain": [
       "  Code Domaine                      Domaine Code zone (ISO3)         Zone  \\\n",
       "0          FBS  Bilans Alimentaires (2010-)              AFG  Afghanistan   \n",
       "1          FBS  Bilans Alimentaires (2010-)              AFG  Afghanistan   \n",
       "2          FBS  Bilans Alimentaires (2010-)              AFG  Afghanistan   \n",
       "\n",
       "   Code Élément                  Élément Code Produit (CPC)          Produit  \\\n",
       "0          5511               Production              S2511  Blé et produits   \n",
       "1          5611  Importations - Quantité              S2511  Blé et produits   \n",
       "2          5072       Variation de stock              S2511  Blé et produits   \n",
       "\n",
       "   Code année  Année               Unité  Valeur Symbole  \\\n",
       "0        2017   2017  Milliers de tonnes  4281.0       I   \n",
       "1        2017   2017  Milliers de tonnes  3080.0       I   \n",
       "2        2017   2017  Milliers de tonnes   208.0       I   \n",
       "\n",
       "  Description du Symbole  \n",
       "0         Valeur imputée  \n",
       "1         Valeur imputée  \n",
       "2         Valeur imputée  "
      ]
     },
     "execution_count": 5,
     "metadata": {},
     "output_type": "execute_result"
    }
   ],
   "source": [
    "dispo_alim_all_prods_2017.head(3)"
   ]
  },
  {
   "cell_type": "code",
   "execution_count": 6,
   "id": "bf530a69-8dcc-4c31-8c77-c8066d1cab88",
   "metadata": {},
   "outputs": [],
   "source": [
    "# on renomme les colonnes\n",
    "dispo_alim_all_prods_2017 = dispo_alim_all_prods_2017.rename(columns=format_col_name)"
   ]
  },
  {
   "cell_type": "code",
   "execution_count": 7,
   "id": "5ce2574f",
   "metadata": {},
   "outputs": [],
   "source": [
    "# on ne conserve que les données qui concernent la viande de volailles\n",
    "mask = dispo_alim_all_prods_2017['produit'] == 'Viande de Volailles'\n",
    "dispo_alim_vol_2017 = dispo_alim_all_prods_2017.loc[mask].copy()"
   ]
  },
  {
   "cell_type": "code",
   "execution_count": 8,
   "id": "82c7aa51",
   "metadata": {},
   "outputs": [
    {
     "data": {
      "text/html": [
       "<div>\n",
       "<style scoped>\n",
       "    .dataframe tbody tr th:only-of-type {\n",
       "        vertical-align: middle;\n",
       "    }\n",
       "\n",
       "    .dataframe tbody tr th {\n",
       "        vertical-align: top;\n",
       "    }\n",
       "\n",
       "    .dataframe thead th {\n",
       "        text-align: right;\n",
       "    }\n",
       "</style>\n",
       "<table border=\"1\" class=\"dataframe\">\n",
       "  <thead>\n",
       "    <tr style=\"text-align: right;\">\n",
       "      <th></th>\n",
       "      <th>element</th>\n",
       "      <th>unite</th>\n",
       "    </tr>\n",
       "  </thead>\n",
       "  <tbody>\n",
       "    <tr>\n",
       "      <th>759</th>\n",
       "      <td>Production</td>\n",
       "      <td>Milliers de tonnes</td>\n",
       "    </tr>\n",
       "    <tr>\n",
       "      <th>760</th>\n",
       "      <td>Importations - Quantité</td>\n",
       "      <td>Milliers de tonnes</td>\n",
       "    </tr>\n",
       "    <tr>\n",
       "      <th>761</th>\n",
       "      <td>Variation de stock</td>\n",
       "      <td>Milliers de tonnes</td>\n",
       "    </tr>\n",
       "  </tbody>\n",
       "</table>\n",
       "</div>"
      ],
      "text/plain": [
       "                     element               unite\n",
       "759               Production  Milliers de tonnes\n",
       "760  Importations - Quantité  Milliers de tonnes\n",
       "761       Variation de stock  Milliers de tonnes"
      ]
     },
     "execution_count": 8,
     "metadata": {},
     "output_type": "execute_result"
    }
   ],
   "source": [
    "# on stocke les unités\n",
    "dispo_alim_vol_units = dispo_alim_vol_2017[['element', 'unite']].drop_duplicates()\n",
    "dispo_alim_vol_units.head(3)"
   ]
  },
  {
   "cell_type": "code",
   "execution_count": 9,
   "id": "a6c90d05",
   "metadata": {},
   "outputs": [],
   "source": [
    "cols = ['code_zone_iso3', 'zone', 'element', 'valeur']\n",
    "dispo_alim_vol_2017 = dispo_alim_vol_2017[cols]"
   ]
  },
  {
   "cell_type": "code",
   "execution_count": 10,
   "id": "61d8c3e7",
   "metadata": {},
   "outputs": [],
   "source": [
    "dispo_alim_vol_2017 = dispo_alim_vol_2017 \\\n",
    "    .pivot(\n",
    "        index=['code_zone_iso3', 'zone'],\n",
    "        columns='element',\n",
    "        values='valeur') \\\n",
    "    .reset_index() \\\n",
    "    .rename_axis(None, axis=1) \\\n",
    "    .rename(columns=format_col_name)"
   ]
  },
  {
   "cell_type": "code",
   "execution_count": 11,
   "id": "9aea6bf0",
   "metadata": {},
   "outputs": [],
   "source": [
    "# on renomme toutes les colonnes\n",
    "cols = [\n",
    "    'code_zone_iso3', 'zone', 'alim_touristes', 'autres_utilisations',\n",
    "    'dispo_alim_kcal_pers_jour', 'dispo_alim_kg_pers_an',\n",
    "    'dispo_matiere_grasse_g_pers_jour', 'dispo_proteines_g_pers_jour',\n",
    "    'dispo_int', 'exportations', 'importations', 'nourriture', 'pertes',\n",
    "    'production', 'residus', 'traitement', 'variation_de_stock'\n",
    "]\n",
    "\n",
    "dispo_alim_vol_2017.columns = cols"
   ]
  },
  {
   "cell_type": "code",
   "execution_count": 12,
   "id": "f8184506-2a85-444a-b7d6-6f772a2afd0b",
   "metadata": {},
   "outputs": [
    {
     "data": {
      "text/html": [
       "<div>\n",
       "<style scoped>\n",
       "    .dataframe tbody tr th:only-of-type {\n",
       "        vertical-align: middle;\n",
       "    }\n",
       "\n",
       "    .dataframe tbody tr th {\n",
       "        vertical-align: top;\n",
       "    }\n",
       "\n",
       "    .dataframe thead th {\n",
       "        text-align: right;\n",
       "    }\n",
       "</style>\n",
       "<table border=\"1\" class=\"dataframe\">\n",
       "  <thead>\n",
       "    <tr style=\"text-align: right;\">\n",
       "      <th></th>\n",
       "      <th>code_zone_iso3</th>\n",
       "      <th>zone</th>\n",
       "      <th>alim_touristes</th>\n",
       "      <th>autres_utilisations</th>\n",
       "      <th>dispo_alim_kcal_pers_jour</th>\n",
       "      <th>dispo_alim_kg_pers_an</th>\n",
       "      <th>dispo_matiere_grasse_g_pers_jour</th>\n",
       "      <th>dispo_proteines_g_pers_jour</th>\n",
       "      <th>dispo_int</th>\n",
       "      <th>exportations</th>\n",
       "      <th>importations</th>\n",
       "      <th>nourriture</th>\n",
       "      <th>pertes</th>\n",
       "      <th>production</th>\n",
       "      <th>residus</th>\n",
       "      <th>traitement</th>\n",
       "      <th>variation_de_stock</th>\n",
       "    </tr>\n",
       "  </thead>\n",
       "  <tbody>\n",
       "    <tr>\n",
       "      <th>0</th>\n",
       "      <td>AFG</td>\n",
       "      <td>Afghanistan</td>\n",
       "      <td>NaN</td>\n",
       "      <td>NaN</td>\n",
       "      <td>6.0</td>\n",
       "      <td>1.76</td>\n",
       "      <td>0.38</td>\n",
       "      <td>0.63</td>\n",
       "      <td>64.0</td>\n",
       "      <td>NaN</td>\n",
       "      <td>29.0</td>\n",
       "      <td>64.0</td>\n",
       "      <td>NaN</td>\n",
       "      <td>28.0</td>\n",
       "      <td>0.0</td>\n",
       "      <td>NaN</td>\n",
       "      <td>-7.0</td>\n",
       "    </tr>\n",
       "    <tr>\n",
       "      <th>1</th>\n",
       "      <td>AGO</td>\n",
       "      <td>Angola</td>\n",
       "      <td>NaN</td>\n",
       "      <td>NaN</td>\n",
       "      <td>36.0</td>\n",
       "      <td>10.65</td>\n",
       "      <td>2.24</td>\n",
       "      <td>3.63</td>\n",
       "      <td>318.0</td>\n",
       "      <td>0.0</td>\n",
       "      <td>277.0</td>\n",
       "      <td>318.0</td>\n",
       "      <td>NaN</td>\n",
       "      <td>40.0</td>\n",
       "      <td>0.0</td>\n",
       "      <td>NaN</td>\n",
       "      <td>0.0</td>\n",
       "    </tr>\n",
       "    <tr>\n",
       "      <th>2</th>\n",
       "      <td>ALB</td>\n",
       "      <td>Albanie</td>\n",
       "      <td>NaN</td>\n",
       "      <td>NaN</td>\n",
       "      <td>59.0</td>\n",
       "      <td>11.45</td>\n",
       "      <td>4.46</td>\n",
       "      <td>4.44</td>\n",
       "      <td>33.0</td>\n",
       "      <td>0.0</td>\n",
       "      <td>20.0</td>\n",
       "      <td>33.0</td>\n",
       "      <td>NaN</td>\n",
       "      <td>13.0</td>\n",
       "      <td>0.0</td>\n",
       "      <td>NaN</td>\n",
       "      <td>0.0</td>\n",
       "    </tr>\n",
       "  </tbody>\n",
       "</table>\n",
       "</div>"
      ],
      "text/plain": [
       "  code_zone_iso3         zone  alim_touristes  autres_utilisations  \\\n",
       "0            AFG  Afghanistan             NaN                  NaN   \n",
       "1            AGO       Angola             NaN                  NaN   \n",
       "2            ALB      Albanie             NaN                  NaN   \n",
       "\n",
       "   dispo_alim_kcal_pers_jour  dispo_alim_kg_pers_an  \\\n",
       "0                        6.0                   1.76   \n",
       "1                       36.0                  10.65   \n",
       "2                       59.0                  11.45   \n",
       "\n",
       "   dispo_matiere_grasse_g_pers_jour  dispo_proteines_g_pers_jour  dispo_int  \\\n",
       "0                              0.38                         0.63       64.0   \n",
       "1                              2.24                         3.63      318.0   \n",
       "2                              4.46                         4.44       33.0   \n",
       "\n",
       "   exportations  importations  nourriture  pertes  production  residus  \\\n",
       "0           NaN          29.0        64.0     NaN        28.0      0.0   \n",
       "1           0.0         277.0       318.0     NaN        40.0      0.0   \n",
       "2           0.0          20.0        33.0     NaN        13.0      0.0   \n",
       "\n",
       "   traitement  variation_de_stock  \n",
       "0         NaN                -7.0  \n",
       "1         NaN                 0.0  \n",
       "2         NaN                 0.0  "
      ]
     },
     "execution_count": 12,
     "metadata": {},
     "output_type": "execute_result"
    }
   ],
   "source": [
    "dispo_alim_vol_2017.head(3)"
   ]
  },
  {
   "cell_type": "code",
   "execution_count": 13,
   "id": "4a8045f1",
   "metadata": {},
   "outputs": [
    {
     "data": {
      "text/plain": [
       "code_zone_iso3                        0\n",
       "zone                                  0\n",
       "alim_touristes                      138\n",
       "autres_utilisations                 147\n",
       "dispo_alim_kcal_pers_jour             0\n",
       "dispo_alim_kg_pers_an                 0\n",
       "dispo_matiere_grasse_g_pers_jour      0\n",
       "dispo_proteines_g_pers_jour           0\n",
       "dispo_int                             0\n",
       "exportations                         38\n",
       "importations                          1\n",
       "nourriture                            0\n",
       "pertes                              146\n",
       "production                            2\n",
       "residus                               0\n",
       "traitement                          147\n",
       "variation_de_stock                    0\n",
       "dtype: int64"
      ]
     },
     "execution_count": 13,
     "metadata": {},
     "output_type": "execute_result"
    }
   ],
   "source": [
    "dispo_alim_vol_2017.isna().sum()"
   ]
  },
  {
   "cell_type": "markdown",
   "id": "b2aec71c",
   "metadata": {},
   "source": [
    "### Part de la viande de volailles dans la disponibilité alimentaire totale"
   ]
  },
  {
   "cell_type": "markdown",
   "id": "657816e7-1cd8-491e-81b5-949eedbfa7e5",
   "metadata": {},
   "source": [
    "Cette variable doit nous permettre d'identifier les pays dans lesquels la viande de volailles occupe une place importante dans l'alimentation."
   ]
  },
  {
   "cell_type": "code",
   "execution_count": 14,
   "id": "0012e230",
   "metadata": {},
   "outputs": [],
   "source": [
    "# on calcule la disponibilité alimentaire totale (tous produits)\n",
    "mask = dispo_alim_all_prods_2017['element'] == 'Disponibilité alimentaire (Kcal/personne/jour)'\n",
    "\n",
    "dispo_alim_tot = dispo_alim_all_prods_2017.loc[mask].groupby(\n",
    "    by='code_zone_iso3',\n",
    "    as_index=False\n",
    ")['valeur'].sum()\n",
    "\n",
    "dispo_alim_tot.rename(\n",
    "    columns={'valeur': 'dispo_alim_tot_kcal_pers_j'},\n",
    "    inplace=True\n",
    ")"
   ]
  },
  {
   "cell_type": "code",
   "execution_count": 15,
   "id": "49e727ba",
   "metadata": {},
   "outputs": [],
   "source": [
    "# calcul la disponibilité alimentaire en viande de volailles\n",
    "mask = (\n",
    "    (dispo_alim_all_prods_2017['element'] == 'Disponibilité alimentaire (Kcal/personne/jour)')\n",
    "    & (dispo_alim_all_prods_2017['produit'] == 'Viande de Volailles')\n",
    ")\n",
    "\n",
    "dispo_alim_vol = dispo_alim_all_prods_2017.loc[mask, ['code_zone_iso3', 'valeur']]\n",
    "\n",
    "dispo_alim_vol.rename(\n",
    "    columns={'valeur': 'dispo_alim_vol_kcal_pers_j'},\n",
    "    inplace=True\n",
    ")"
   ]
  },
  {
   "cell_type": "code",
   "execution_count": 16,
   "id": "c014027d",
   "metadata": {},
   "outputs": [],
   "source": [
    "# on joint les deux dataframes\n",
    "dispo_alim_vol_pct = dispo_alim_tot.merge(dispo_alim_vol)\n",
    "\n",
    "# on calcule le pourcentage représenté par la viande de volailles dans la\n",
    "# disponibilité alimentaire totale\n",
    "dispo_alim_vol_pct['dispo_alim_vol_pct'] = (\n",
    "    dispo_alim_vol_pct['dispo_alim_vol_kcal_pers_j']\n",
    "    / dispo_alim_vol_pct['dispo_alim_tot_kcal_pers_j']\n",
    "    * 100\n",
    ")"
   ]
  },
  {
   "cell_type": "code",
   "execution_count": 17,
   "id": "e8db4c7e",
   "metadata": {},
   "outputs": [
    {
     "data": {
      "text/html": [
       "<div>\n",
       "<style scoped>\n",
       "    .dataframe tbody tr th:only-of-type {\n",
       "        vertical-align: middle;\n",
       "    }\n",
       "\n",
       "    .dataframe tbody tr th {\n",
       "        vertical-align: top;\n",
       "    }\n",
       "\n",
       "    .dataframe thead th {\n",
       "        text-align: right;\n",
       "    }\n",
       "</style>\n",
       "<table border=\"1\" class=\"dataframe\">\n",
       "  <thead>\n",
       "    <tr style=\"text-align: right;\">\n",
       "      <th></th>\n",
       "      <th>code_zone_iso3</th>\n",
       "      <th>dispo_alim_tot_kcal_pers_j</th>\n",
       "      <th>dispo_alim_vol_kcal_pers_j</th>\n",
       "      <th>dispo_alim_vol_pct</th>\n",
       "    </tr>\n",
       "  </thead>\n",
       "  <tbody>\n",
       "    <tr>\n",
       "      <th>0</th>\n",
       "      <td>AFG</td>\n",
       "      <td>2303.0</td>\n",
       "      <td>6.0</td>\n",
       "      <td>0.260530</td>\n",
       "    </tr>\n",
       "    <tr>\n",
       "      <th>1</th>\n",
       "      <td>AGO</td>\n",
       "      <td>2436.0</td>\n",
       "      <td>36.0</td>\n",
       "      <td>1.477833</td>\n",
       "    </tr>\n",
       "    <tr>\n",
       "      <th>2</th>\n",
       "      <td>ALB</td>\n",
       "      <td>3324.0</td>\n",
       "      <td>59.0</td>\n",
       "      <td>1.774970</td>\n",
       "    </tr>\n",
       "  </tbody>\n",
       "</table>\n",
       "</div>"
      ],
      "text/plain": [
       "  code_zone_iso3  dispo_alim_tot_kcal_pers_j  dispo_alim_vol_kcal_pers_j  \\\n",
       "0            AFG                      2303.0                         6.0   \n",
       "1            AGO                      2436.0                        36.0   \n",
       "2            ALB                      3324.0                        59.0   \n",
       "\n",
       "   dispo_alim_vol_pct  \n",
       "0            0.260530  \n",
       "1            1.477833  \n",
       "2            1.774970  "
      ]
     },
     "execution_count": 17,
     "metadata": {},
     "output_type": "execute_result"
    }
   ],
   "source": [
    "dispo_alim_vol_pct.head(3)"
   ]
  },
  {
   "cell_type": "markdown",
   "id": "085773a7",
   "metadata": {},
   "source": [
    "### Part des importations (tous produits) dans les disponibilités"
   ]
  },
  {
   "cell_type": "markdown",
   "id": "141f7d2c",
   "metadata": {},
   "source": [
    "Cette variable doit nous permettre d'identifier les pays qui dépendent beaucoup des importations pour leur disponibilité intérieure.\n",
    "\n",
    "Production + importations + variations des stocks (baisse ou augmentation) = quantités disponibles pour l'exportation et l'utilisation intérieure\n",
    "\n",
    "---\n",
    "Source : https://www.fao.org/3/X9892F/x9892f03.htm"
   ]
  },
  {
   "cell_type": "code",
   "execution_count": 18,
   "id": "e007eaca",
   "metadata": {},
   "outputs": [],
   "source": [
    "mask = dispo_alim_all_prods_2017['element'].isin([\n",
    "    'Disponibilité intérieure',\n",
    "    'Importations - Quantité',\n",
    "    'Exportations - Quantité'\n",
    "])\n",
    "\n",
    "# on calcule pour chaque pays les valeurs totales (tous produits) de la\n",
    "# disponibilité intérieure, des importations et des exportations\n",
    "dispo_int_import_tot = dispo_alim_all_prods_2017.loc[mask].groupby(\n",
    "    by=['element', 'code_zone_iso3'],\n",
    "    as_index=False\n",
    ")['valeur'].sum()"
   ]
  },
  {
   "cell_type": "code",
   "execution_count": 19,
   "id": "41dd8a0c-6bab-4716-81b9-9d0693b738f6",
   "metadata": {},
   "outputs": [
    {
     "data": {
      "text/html": [
       "<div>\n",
       "<style scoped>\n",
       "    .dataframe tbody tr th:only-of-type {\n",
       "        vertical-align: middle;\n",
       "    }\n",
       "\n",
       "    .dataframe tbody tr th {\n",
       "        vertical-align: top;\n",
       "    }\n",
       "\n",
       "    .dataframe thead th {\n",
       "        text-align: right;\n",
       "    }\n",
       "</style>\n",
       "<table border=\"1\" class=\"dataframe\">\n",
       "  <thead>\n",
       "    <tr style=\"text-align: right;\">\n",
       "      <th></th>\n",
       "      <th>element</th>\n",
       "      <th>code_zone_iso3</th>\n",
       "      <th>valeur</th>\n",
       "    </tr>\n",
       "  </thead>\n",
       "  <tbody>\n",
       "    <tr>\n",
       "      <th>0</th>\n",
       "      <td>Disponibilité intérieure</td>\n",
       "      <td>AFG</td>\n",
       "      <td>17175.00</td>\n",
       "    </tr>\n",
       "    <tr>\n",
       "      <th>1</th>\n",
       "      <td>Disponibilité intérieure</td>\n",
       "      <td>AGO</td>\n",
       "      <td>27178.22</td>\n",
       "    </tr>\n",
       "    <tr>\n",
       "      <th>2</th>\n",
       "      <td>Disponibilité intérieure</td>\n",
       "      <td>ALB</td>\n",
       "      <td>4868.07</td>\n",
       "    </tr>\n",
       "  </tbody>\n",
       "</table>\n",
       "</div>"
      ],
      "text/plain": [
       "                    element code_zone_iso3    valeur\n",
       "0  Disponibilité intérieure            AFG  17175.00\n",
       "1  Disponibilité intérieure            AGO  27178.22\n",
       "2  Disponibilité intérieure            ALB   4868.07"
      ]
     },
     "execution_count": 19,
     "metadata": {},
     "output_type": "execute_result"
    }
   ],
   "source": [
    "dispo_int_import_tot.head(3)"
   ]
  },
  {
   "cell_type": "code",
   "execution_count": 20,
   "id": "c56661fb",
   "metadata": {},
   "outputs": [],
   "source": [
    "import_tot_pct = dispo_int_import_tot \\\n",
    "    .pivot(\n",
    "        index='code_zone_iso3',\n",
    "        columns='element',\n",
    "        values='valeur') \\\n",
    "    .reset_index() \\\n",
    "    .rename_axis(None, axis=1) \\\n",
    "    .rename(columns={\n",
    "        'Disponibilité intérieure': 'dispo_int_tot_m_tonnes',\n",
    "        'Importations - Quantité': 'import_tot_m_tonnes',\n",
    "        'Exportations - Quantité': 'export_tot_m_tonnes'\n",
    "    })"
   ]
  },
  {
   "cell_type": "code",
   "execution_count": 21,
   "id": "f1eefb62",
   "metadata": {},
   "outputs": [
    {
     "data": {
      "text/html": [
       "<div>\n",
       "<style scoped>\n",
       "    .dataframe tbody tr th:only-of-type {\n",
       "        vertical-align: middle;\n",
       "    }\n",
       "\n",
       "    .dataframe tbody tr th {\n",
       "        vertical-align: top;\n",
       "    }\n",
       "\n",
       "    .dataframe thead th {\n",
       "        text-align: right;\n",
       "    }\n",
       "</style>\n",
       "<table border=\"1\" class=\"dataframe\">\n",
       "  <thead>\n",
       "    <tr style=\"text-align: right;\">\n",
       "      <th></th>\n",
       "      <th>code_zone_iso3</th>\n",
       "      <th>dispo_int_tot_m_tonnes</th>\n",
       "      <th>export_tot_m_tonnes</th>\n",
       "      <th>import_tot_m_tonnes</th>\n",
       "    </tr>\n",
       "  </thead>\n",
       "  <tbody>\n",
       "    <tr>\n",
       "      <th>0</th>\n",
       "      <td>AFG</td>\n",
       "      <td>17175.00</td>\n",
       "      <td>628.00</td>\n",
       "      <td>6112.00</td>\n",
       "    </tr>\n",
       "    <tr>\n",
       "      <th>1</th>\n",
       "      <td>AGO</td>\n",
       "      <td>27178.22</td>\n",
       "      <td>129.03</td>\n",
       "      <td>4223.83</td>\n",
       "    </tr>\n",
       "    <tr>\n",
       "      <th>2</th>\n",
       "      <td>ALB</td>\n",
       "      <td>4868.07</td>\n",
       "      <td>164.02</td>\n",
       "      <td>776.40</td>\n",
       "    </tr>\n",
       "  </tbody>\n",
       "</table>\n",
       "</div>"
      ],
      "text/plain": [
       "  code_zone_iso3  dispo_int_tot_m_tonnes  export_tot_m_tonnes  \\\n",
       "0            AFG                17175.00               628.00   \n",
       "1            AGO                27178.22               129.03   \n",
       "2            ALB                 4868.07               164.02   \n",
       "\n",
       "   import_tot_m_tonnes  \n",
       "0              6112.00  \n",
       "1              4223.83  \n",
       "2               776.40  "
      ]
     },
     "execution_count": 21,
     "metadata": {},
     "output_type": "execute_result"
    }
   ],
   "source": [
    "import_tot_pct.head(3)"
   ]
  },
  {
   "cell_type": "code",
   "execution_count": 22,
   "id": "97181fa3",
   "metadata": {},
   "outputs": [],
   "source": [
    "import_tot_pct['import_tot_pct'] = (\n",
    "    import_tot_pct['import_tot_m_tonnes']\n",
    "    / import_tot_pct[['dispo_int_tot_m_tonnes', 'export_tot_m_tonnes']].sum(axis=1)\n",
    "    * 100\n",
    ")"
   ]
  },
  {
   "cell_type": "code",
   "execution_count": 23,
   "id": "919010a3-2791-4170-8565-c18c4800c3fc",
   "metadata": {},
   "outputs": [
    {
     "data": {
      "text/html": [
       "<div>\n",
       "<style scoped>\n",
       "    .dataframe tbody tr th:only-of-type {\n",
       "        vertical-align: middle;\n",
       "    }\n",
       "\n",
       "    .dataframe tbody tr th {\n",
       "        vertical-align: top;\n",
       "    }\n",
       "\n",
       "    .dataframe thead th {\n",
       "        text-align: right;\n",
       "    }\n",
       "</style>\n",
       "<table border=\"1\" class=\"dataframe\">\n",
       "  <thead>\n",
       "    <tr style=\"text-align: right;\">\n",
       "      <th></th>\n",
       "      <th>dispo_int_tot_m_tonnes</th>\n",
       "      <th>export_tot_m_tonnes</th>\n",
       "      <th>import_tot_m_tonnes</th>\n",
       "      <th>import_tot_pct</th>\n",
       "    </tr>\n",
       "  </thead>\n",
       "  <tbody>\n",
       "    <tr>\n",
       "      <th>count</th>\n",
       "      <td>1.800000e+02</td>\n",
       "      <td>180.000000</td>\n",
       "      <td>180.000000</td>\n",
       "      <td>180.000000</td>\n",
       "    </tr>\n",
       "    <tr>\n",
       "      <th>mean</th>\n",
       "      <td>7.426819e+04</td>\n",
       "      <td>8903.622667</td>\n",
       "      <td>9444.406278</td>\n",
       "      <td>26.645635</td>\n",
       "    </tr>\n",
       "    <tr>\n",
       "      <th>std</th>\n",
       "      <td>2.707012e+05</td>\n",
       "      <td>22798.758635</td>\n",
       "      <td>25303.119998</td>\n",
       "      <td>22.888759</td>\n",
       "    </tr>\n",
       "    <tr>\n",
       "      <th>min</th>\n",
       "      <td>8.641000e+01</td>\n",
       "      <td>0.090000</td>\n",
       "      <td>25.810000</td>\n",
       "      <td>1.316653</td>\n",
       "    </tr>\n",
       "    <tr>\n",
       "      <th>25%</th>\n",
       "      <td>3.033905e+03</td>\n",
       "      <td>175.775000</td>\n",
       "      <td>774.585000</td>\n",
       "      <td>9.089031</td>\n",
       "    </tr>\n",
       "    <tr>\n",
       "      <th>50%</th>\n",
       "      <td>1.259180e+04</td>\n",
       "      <td>988.475000</td>\n",
       "      <td>2550.480000</td>\n",
       "      <td>18.413028</td>\n",
       "    </tr>\n",
       "    <tr>\n",
       "      <th>75%</th>\n",
       "      <td>3.299807e+04</td>\n",
       "      <td>6574.677500</td>\n",
       "      <td>7112.920000</td>\n",
       "      <td>35.902801</td>\n",
       "    </tr>\n",
       "    <tr>\n",
       "      <th>max</th>\n",
       "      <td>2.250388e+06</td>\n",
       "      <td>195680.410000</td>\n",
       "      <td>229471.590000</td>\n",
       "      <td>100.728445</td>\n",
       "    </tr>\n",
       "  </tbody>\n",
       "</table>\n",
       "</div>"
      ],
      "text/plain": [
       "       dispo_int_tot_m_tonnes  export_tot_m_tonnes  import_tot_m_tonnes  \\\n",
       "count            1.800000e+02           180.000000           180.000000   \n",
       "mean             7.426819e+04          8903.622667          9444.406278   \n",
       "std              2.707012e+05         22798.758635         25303.119998   \n",
       "min              8.641000e+01             0.090000            25.810000   \n",
       "25%              3.033905e+03           175.775000           774.585000   \n",
       "50%              1.259180e+04           988.475000          2550.480000   \n",
       "75%              3.299807e+04          6574.677500          7112.920000   \n",
       "max              2.250388e+06        195680.410000        229471.590000   \n",
       "\n",
       "       import_tot_pct  \n",
       "count      180.000000  \n",
       "mean        26.645635  \n",
       "std         22.888759  \n",
       "min          1.316653  \n",
       "25%          9.089031  \n",
       "50%         18.413028  \n",
       "75%         35.902801  \n",
       "max        100.728445  "
      ]
     },
     "execution_count": 23,
     "metadata": {},
     "output_type": "execute_result"
    }
   ],
   "source": [
    "import_tot_pct.describe()"
   ]
  },
  {
   "cell_type": "markdown",
   "id": "93a5a3e6-694d-4211-b340-51bd8e0030ff",
   "metadata": {},
   "source": [
    "La valeur maximale est légèrement supérieure à 100 %."
   ]
  },
  {
   "cell_type": "code",
   "execution_count": 24,
   "id": "3b578554-8253-4de5-91ee-05fc6a524ccb",
   "metadata": {},
   "outputs": [
    {
     "data": {
      "text/html": [
       "<div>\n",
       "<style scoped>\n",
       "    .dataframe tbody tr th:only-of-type {\n",
       "        vertical-align: middle;\n",
       "    }\n",
       "\n",
       "    .dataframe tbody tr th {\n",
       "        vertical-align: top;\n",
       "    }\n",
       "\n",
       "    .dataframe thead th {\n",
       "        text-align: right;\n",
       "    }\n",
       "</style>\n",
       "<table border=\"1\" class=\"dataframe\">\n",
       "  <thead>\n",
       "    <tr style=\"text-align: right;\">\n",
       "      <th></th>\n",
       "      <th>code_zone_iso3</th>\n",
       "      <th>dispo_int_tot_m_tonnes</th>\n",
       "      <th>export_tot_m_tonnes</th>\n",
       "      <th>import_tot_m_tonnes</th>\n",
       "      <th>import_tot_pct</th>\n",
       "      <th>iso3</th>\n",
       "      <th>name</th>\n",
       "    </tr>\n",
       "  </thead>\n",
       "  <tbody>\n",
       "    <tr>\n",
       "      <th>99</th>\n",
       "      <td>MAC</td>\n",
       "      <td>471.62</td>\n",
       "      <td>6.11</td>\n",
       "      <td>481.21</td>\n",
       "      <td>100.728445</td>\n",
       "      <td>MAC</td>\n",
       "      <td>China, Macao SAR</td>\n",
       "    </tr>\n",
       "    <tr>\n",
       "      <th>65</th>\n",
       "      <td>HKG</td>\n",
       "      <td>6106.22</td>\n",
       "      <td>3603.71</td>\n",
       "      <td>9545.15</td>\n",
       "      <td>98.302974</td>\n",
       "      <td>HKG</td>\n",
       "      <td>China, Hong Kong SAR</td>\n",
       "    </tr>\n",
       "    <tr>\n",
       "      <th>41</th>\n",
       "      <td>DJI</td>\n",
       "      <td>1480.48</td>\n",
       "      <td>191.00</td>\n",
       "      <td>1625.46</td>\n",
       "      <td>97.246751</td>\n",
       "      <td>DJI</td>\n",
       "      <td>Djibouti</td>\n",
       "    </tr>\n",
       "    <tr>\n",
       "      <th>3</th>\n",
       "      <td>ARE</td>\n",
       "      <td>11692.18</td>\n",
       "      <td>5383.41</td>\n",
       "      <td>15693.74</td>\n",
       "      <td>91.907454</td>\n",
       "      <td>ARE</td>\n",
       "      <td>United Arab Emirates</td>\n",
       "    </tr>\n",
       "    <tr>\n",
       "      <th>88</th>\n",
       "      <td>KWT</td>\n",
       "      <td>3723.85</td>\n",
       "      <td>566.44</td>\n",
       "      <td>3599.96</td>\n",
       "      <td>83.909479</td>\n",
       "      <td>KWT</td>\n",
       "      <td>Kuwait</td>\n",
       "    </tr>\n",
       "  </tbody>\n",
       "</table>\n",
       "</div>"
      ],
      "text/plain": [
       "   code_zone_iso3  dispo_int_tot_m_tonnes  export_tot_m_tonnes  \\\n",
       "99            MAC                  471.62                 6.11   \n",
       "65            HKG                 6106.22              3603.71   \n",
       "41            DJI                 1480.48               191.00   \n",
       "3             ARE                11692.18              5383.41   \n",
       "88            KWT                 3723.85               566.44   \n",
       "\n",
       "    import_tot_m_tonnes  import_tot_pct iso3                  name  \n",
       "99               481.21      100.728445  MAC      China, Macao SAR  \n",
       "65              9545.15       98.302974  HKG  China, Hong Kong SAR  \n",
       "41              1625.46       97.246751  DJI              Djibouti  \n",
       "3              15693.74       91.907454  ARE  United Arab Emirates  \n",
       "88              3599.96       83.909479  KWT                Kuwait  "
      ]
     },
     "execution_count": 24,
     "metadata": {},
     "output_type": "execute_result"
    }
   ],
   "source": [
    "import_tot_pct \\\n",
    "    .merge(\n",
    "        iso3,\n",
    "        left_on='code_zone_iso3',\n",
    "        right_on='iso3') \\\n",
    "    .sort_values(by='import_tot_pct', ascending=False) \\\n",
    "    .head()"
   ]
  },
  {
   "cell_type": "markdown",
   "id": "cebf187a-f15e-45b5-bfb6-389a18faa182",
   "metadata": {},
   "source": [
    "La liste des principaux importateurs nous paraît cohérente."
   ]
  },
  {
   "cell_type": "markdown",
   "id": "7b0d9b3b",
   "metadata": {},
   "source": [
    "### Population"
   ]
  },
  {
   "cell_type": "code",
   "execution_count": 25,
   "id": "0ebb0205",
   "metadata": {},
   "outputs": [],
   "source": [
    "pop_2007_to_2017 = pop_2007_to_2017_raw.copy() \\\n",
    "    .rename(columns=format_col_name)"
   ]
  },
  {
   "cell_type": "code",
   "execution_count": 26,
   "id": "601ec26f-8e4f-47c8-9fe7-eea08c2cccd4",
   "metadata": {},
   "outputs": [
    {
     "data": {
      "text/html": [
       "<div>\n",
       "<style scoped>\n",
       "    .dataframe tbody tr th:only-of-type {\n",
       "        vertical-align: middle;\n",
       "    }\n",
       "\n",
       "    .dataframe tbody tr th {\n",
       "        vertical-align: top;\n",
       "    }\n",
       "\n",
       "    .dataframe thead th {\n",
       "        text-align: right;\n",
       "    }\n",
       "</style>\n",
       "<table border=\"1\" class=\"dataframe\">\n",
       "  <thead>\n",
       "    <tr style=\"text-align: right;\">\n",
       "      <th></th>\n",
       "      <th>code_domaine</th>\n",
       "      <th>domaine</th>\n",
       "      <th>code_zone_iso3</th>\n",
       "      <th>zone</th>\n",
       "      <th>code_element</th>\n",
       "      <th>element</th>\n",
       "      <th>code_produit</th>\n",
       "      <th>produit</th>\n",
       "      <th>code_annee</th>\n",
       "      <th>annee</th>\n",
       "      <th>unite</th>\n",
       "      <th>valeur</th>\n",
       "      <th>symbole</th>\n",
       "      <th>description_du_symbole</th>\n",
       "      <th>note</th>\n",
       "    </tr>\n",
       "  </thead>\n",
       "  <tbody>\n",
       "    <tr>\n",
       "      <th>0</th>\n",
       "      <td>OA</td>\n",
       "      <td>Séries temporelles annuelles</td>\n",
       "      <td>AFG</td>\n",
       "      <td>Afghanistan</td>\n",
       "      <td>511</td>\n",
       "      <td>Population totale</td>\n",
       "      <td>3010</td>\n",
       "      <td>Population-Estimations</td>\n",
       "      <td>2007</td>\n",
       "      <td>2007</td>\n",
       "      <td>1000 personnes</td>\n",
       "      <td>25903.301</td>\n",
       "      <td>X</td>\n",
       "      <td>Ciffre de sources internationales</td>\n",
       "      <td>NaN</td>\n",
       "    </tr>\n",
       "    <tr>\n",
       "      <th>1</th>\n",
       "      <td>OA</td>\n",
       "      <td>Séries temporelles annuelles</td>\n",
       "      <td>AFG</td>\n",
       "      <td>Afghanistan</td>\n",
       "      <td>511</td>\n",
       "      <td>Population totale</td>\n",
       "      <td>3010</td>\n",
       "      <td>Population-Estimations</td>\n",
       "      <td>2008</td>\n",
       "      <td>2008</td>\n",
       "      <td>1000 personnes</td>\n",
       "      <td>26427.199</td>\n",
       "      <td>X</td>\n",
       "      <td>Ciffre de sources internationales</td>\n",
       "      <td>NaN</td>\n",
       "    </tr>\n",
       "    <tr>\n",
       "      <th>2</th>\n",
       "      <td>OA</td>\n",
       "      <td>Séries temporelles annuelles</td>\n",
       "      <td>AFG</td>\n",
       "      <td>Afghanistan</td>\n",
       "      <td>511</td>\n",
       "      <td>Population totale</td>\n",
       "      <td>3010</td>\n",
       "      <td>Population-Estimations</td>\n",
       "      <td>2009</td>\n",
       "      <td>2009</td>\n",
       "      <td>1000 personnes</td>\n",
       "      <td>27385.307</td>\n",
       "      <td>X</td>\n",
       "      <td>Ciffre de sources internationales</td>\n",
       "      <td>NaN</td>\n",
       "    </tr>\n",
       "  </tbody>\n",
       "</table>\n",
       "</div>"
      ],
      "text/plain": [
       "  code_domaine                       domaine code_zone_iso3         zone  \\\n",
       "0           OA  Séries temporelles annuelles            AFG  Afghanistan   \n",
       "1           OA  Séries temporelles annuelles            AFG  Afghanistan   \n",
       "2           OA  Séries temporelles annuelles            AFG  Afghanistan   \n",
       "\n",
       "   code_element            element  code_produit                 produit  \\\n",
       "0           511  Population totale          3010  Population-Estimations   \n",
       "1           511  Population totale          3010  Population-Estimations   \n",
       "2           511  Population totale          3010  Population-Estimations   \n",
       "\n",
       "   code_annee  annee           unite     valeur symbole  \\\n",
       "0        2007   2007  1000 personnes  25903.301       X   \n",
       "1        2008   2008  1000 personnes  26427.199       X   \n",
       "2        2009   2009  1000 personnes  27385.307       X   \n",
       "\n",
       "              description_du_symbole  note  \n",
       "0  Ciffre de sources internationales   NaN  \n",
       "1  Ciffre de sources internationales   NaN  \n",
       "2  Ciffre de sources internationales   NaN  "
      ]
     },
     "execution_count": 26,
     "metadata": {},
     "output_type": "execute_result"
    }
   ],
   "source": [
    "pop_2007_to_2017.head(3)"
   ]
  },
  {
   "cell_type": "code",
   "execution_count": 27,
   "id": "05df79f5",
   "metadata": {},
   "outputs": [],
   "source": [
    "mask = pop_2007_to_2017['annee'] == 2017\n",
    "pop_2017 = pop_2007_to_2017.loc[mask].copy()"
   ]
  },
  {
   "cell_type": "code",
   "execution_count": 28,
   "id": "2c079f68",
   "metadata": {},
   "outputs": [],
   "source": [
    "# on stocke les unités\n",
    "pop_units = pop_2017[['element', 'unite']].drop_duplicates()"
   ]
  },
  {
   "cell_type": "code",
   "execution_count": 29,
   "id": "41e07f5d",
   "metadata": {},
   "outputs": [],
   "source": [
    "cols = ['code_zone_iso3', 'zone', 'valeur']\n",
    "pop_2017 = pop_2017[cols]\n",
    "\n",
    "pop_2017.rename({'valeur': 'population_m'}, axis=1, inplace=True)  # \"m\" pour milliers de personnes"
   ]
  },
  {
   "cell_type": "code",
   "execution_count": 30,
   "id": "65dbc34a",
   "metadata": {},
   "outputs": [
    {
     "data": {
      "text/html": [
       "<div>\n",
       "<style scoped>\n",
       "    .dataframe tbody tr th:only-of-type {\n",
       "        vertical-align: middle;\n",
       "    }\n",
       "\n",
       "    .dataframe tbody tr th {\n",
       "        vertical-align: top;\n",
       "    }\n",
       "\n",
       "    .dataframe thead th {\n",
       "        text-align: right;\n",
       "    }\n",
       "</style>\n",
       "<table border=\"1\" class=\"dataframe\">\n",
       "  <thead>\n",
       "    <tr style=\"text-align: right;\">\n",
       "      <th></th>\n",
       "      <th>code_zone_iso3</th>\n",
       "      <th>zone</th>\n",
       "      <th>population_m</th>\n",
       "    </tr>\n",
       "  </thead>\n",
       "  <tbody>\n",
       "    <tr>\n",
       "      <th>10</th>\n",
       "      <td>AFG</td>\n",
       "      <td>Afghanistan</td>\n",
       "      <td>35643.418</td>\n",
       "    </tr>\n",
       "    <tr>\n",
       "      <th>21</th>\n",
       "      <td>ZAF</td>\n",
       "      <td>Afrique du Sud</td>\n",
       "      <td>56641.209</td>\n",
       "    </tr>\n",
       "    <tr>\n",
       "      <th>32</th>\n",
       "      <td>ALB</td>\n",
       "      <td>Albanie</td>\n",
       "      <td>2879.355</td>\n",
       "    </tr>\n",
       "  </tbody>\n",
       "</table>\n",
       "</div>"
      ],
      "text/plain": [
       "   code_zone_iso3            zone  population_m\n",
       "10            AFG     Afghanistan     35643.418\n",
       "21            ZAF  Afrique du Sud     56641.209\n",
       "32            ALB         Albanie      2879.355"
      ]
     },
     "execution_count": 30,
     "metadata": {},
     "output_type": "execute_result"
    }
   ],
   "source": [
    "pop_2017.head(3)"
   ]
  },
  {
   "cell_type": "code",
   "execution_count": 31,
   "id": "3df39b4d",
   "metadata": {},
   "outputs": [
    {
     "data": {
      "text/plain": [
       "code_zone_iso3    0\n",
       "zone              0\n",
       "population_m      0\n",
       "dtype: int64"
      ]
     },
     "execution_count": 31,
     "metadata": {},
     "output_type": "execute_result"
    }
   ],
   "source": [
    "pop_2017.isna().sum()"
   ]
  },
  {
   "cell_type": "markdown",
   "id": "30555a9c",
   "metadata": {},
   "source": [
    "### Taux de croissance annuel composé de la population (2007-2017)"
   ]
  },
  {
   "cell_type": "markdown",
   "id": "73e33e2c-c12f-4afc-9d6d-c059ab85884a",
   "metadata": {},
   "source": [
    ">Le taux de croissance annuel composé (TCAC) est une mesure statistique permettant d’estimer la croissance moyenne annuelle qu’il y a eu entre deux dates. Cette approche a l’intérêt de fournir une indication sur le taux de croissance moyen sur une période et de comparer deux périodes qui n’ont pas la même longueur.\n",
    ">\n",
    ">Le taux de croissance annuel composé s’obtient avec la formule suivante :\n",
    ">\n",
    ">$$TCAC = \\left( \\frac{V_{t_{n}}}{V_{t_{0}}} \\right) ^\\frac{1}{t_{n}-t_{0}} - 1$$\n",
    ">\n",
    ">où $V$ représente la valeur pour la période initiale, $t_{0}$ , et celle finale, $t_{n}$.\n",
    "\n",
    "Source : https://www.european-datalab.com/Glossaire/taux-de-croissance-annuel-compose/"
   ]
  },
  {
   "cell_type": "code",
   "execution_count": 32,
   "id": "ae175712",
   "metadata": {},
   "outputs": [],
   "source": [
    "mask = pop_2007_to_2017['annee'].isin([2007, 2017])\n",
    "pop_2007_et_2017 = pop_2007_to_2017.loc[mask]"
   ]
  },
  {
   "cell_type": "code",
   "execution_count": 33,
   "id": "6b6e9ecc",
   "metadata": {},
   "outputs": [],
   "source": [
    "taux_croissance_pop = pop_2007_et_2017 \\\n",
    "    .pivot(\n",
    "        index='code_zone_iso3',\n",
    "        columns='annee',\n",
    "        values='valeur') \\\n",
    "    .reset_index() \\\n",
    "    .rename_axis(None, axis=1)"
   ]
  },
  {
   "cell_type": "code",
   "execution_count": 34,
   "id": "679d3504",
   "metadata": {},
   "outputs": [],
   "source": [
    "taux_croissance_pop['taux_croissance_pop'] = (\n",
    "    (taux_croissance_pop[2017] / taux_croissance_pop[2007])**(1 / (2017 - 2007))\n",
    "    - 1\n",
    ") * 100"
   ]
  },
  {
   "cell_type": "code",
   "execution_count": 35,
   "id": "630ef25e",
   "metadata": {},
   "outputs": [
    {
     "data": {
      "text/html": [
       "<div>\n",
       "<style scoped>\n",
       "    .dataframe tbody tr th:only-of-type {\n",
       "        vertical-align: middle;\n",
       "    }\n",
       "\n",
       "    .dataframe tbody tr th {\n",
       "        vertical-align: top;\n",
       "    }\n",
       "\n",
       "    .dataframe thead th {\n",
       "        text-align: right;\n",
       "    }\n",
       "</style>\n",
       "<table border=\"1\" class=\"dataframe\">\n",
       "  <thead>\n",
       "    <tr style=\"text-align: right;\">\n",
       "      <th></th>\n",
       "      <th>code_zone_iso3</th>\n",
       "      <th>2007</th>\n",
       "      <th>2017</th>\n",
       "      <th>taux_croissance_pop</th>\n",
       "    </tr>\n",
       "  </thead>\n",
       "  <tbody>\n",
       "    <tr>\n",
       "      <th>177</th>\n",
       "      <td>QAT</td>\n",
       "      <td>1231.893</td>\n",
       "      <td>2711.755</td>\n",
       "      <td>8.210087</td>\n",
       "    </tr>\n",
       "    <tr>\n",
       "      <th>163</th>\n",
       "      <td>OMN</td>\n",
       "      <td>2605.700</td>\n",
       "      <td>4541.854</td>\n",
       "      <td>5.713603</td>\n",
       "    </tr>\n",
       "    <tr>\n",
       "      <th>116</th>\n",
       "      <td>KWT</td>\n",
       "      <td>2506.769</td>\n",
       "      <td>4124.904</td>\n",
       "      <td>5.106592</td>\n",
       "    </tr>\n",
       "  </tbody>\n",
       "</table>\n",
       "</div>"
      ],
      "text/plain": [
       "    code_zone_iso3      2007      2017  taux_croissance_pop\n",
       "177            QAT  1231.893  2711.755             8.210087\n",
       "163            OMN  2605.700  4541.854             5.713603\n",
       "116            KWT  2506.769  4124.904             5.106592"
      ]
     },
     "execution_count": 35,
     "metadata": {},
     "output_type": "execute_result"
    }
   ],
   "source": [
    "taux_croissance_pop.sort_values(by='taux_croissance_pop', ascending=False).head(3)"
   ]
  },
  {
   "cell_type": "code",
   "execution_count": 36,
   "id": "ebe1b8c5",
   "metadata": {},
   "outputs": [
    {
     "data": {
      "text/plain": [
       "code_zone_iso3         0\n",
       "2007                   7\n",
       "2017                   2\n",
       "taux_croissance_pop    9\n",
       "dtype: int64"
      ]
     },
     "execution_count": 36,
     "metadata": {},
     "output_type": "execute_result"
    }
   ],
   "source": [
    "taux_croissance_pop.isna().sum()"
   ]
  },
  {
   "cell_type": "markdown",
   "id": "b656e30e",
   "metadata": {},
   "source": [
    "### PIB"
   ]
  },
  {
   "cell_type": "code",
   "execution_count": 37,
   "id": "9ef54da4",
   "metadata": {},
   "outputs": [],
   "source": [
    "pib_2017 = pib_2017_raw.copy() \\\n",
    "    .rename(columns=format_col_name)"
   ]
  },
  {
   "cell_type": "code",
   "execution_count": 38,
   "id": "e0be568c",
   "metadata": {},
   "outputs": [
    {
     "data": {
      "text/html": [
       "<div>\n",
       "<style scoped>\n",
       "    .dataframe tbody tr th:only-of-type {\n",
       "        vertical-align: middle;\n",
       "    }\n",
       "\n",
       "    .dataframe tbody tr th {\n",
       "        vertical-align: top;\n",
       "    }\n",
       "\n",
       "    .dataframe thead th {\n",
       "        text-align: right;\n",
       "    }\n",
       "</style>\n",
       "<table border=\"1\" class=\"dataframe\">\n",
       "  <thead>\n",
       "    <tr style=\"text-align: right;\">\n",
       "      <th></th>\n",
       "      <th>code_domaine</th>\n",
       "      <th>domaine</th>\n",
       "      <th>code_zone_iso3</th>\n",
       "      <th>zone</th>\n",
       "      <th>code_element</th>\n",
       "      <th>element</th>\n",
       "      <th>code_produit</th>\n",
       "      <th>produit</th>\n",
       "      <th>code_annee</th>\n",
       "      <th>annee</th>\n",
       "      <th>unite</th>\n",
       "      <th>valeur</th>\n",
       "      <th>symbole</th>\n",
       "      <th>description_du_symbole</th>\n",
       "      <th>note</th>\n",
       "    </tr>\n",
       "  </thead>\n",
       "  <tbody>\n",
       "    <tr>\n",
       "      <th>0</th>\n",
       "      <td>MK</td>\n",
       "      <td>Indicateurs macro</td>\n",
       "      <td>AFG</td>\n",
       "      <td>Afghanistan</td>\n",
       "      <td>6110</td>\n",
       "      <td>Valeur US $</td>\n",
       "      <td>22008</td>\n",
       "      <td>Produit Intérieur Brut</td>\n",
       "      <td>2017</td>\n",
       "      <td>2017</td>\n",
       "      <td>millions</td>\n",
       "      <td>18896.352021</td>\n",
       "      <td>X</td>\n",
       "      <td>Ciffre de sources internationales</td>\n",
       "      <td>NaN</td>\n",
       "    </tr>\n",
       "    <tr>\n",
       "      <th>1</th>\n",
       "      <td>MK</td>\n",
       "      <td>Indicateurs macro</td>\n",
       "      <td>ZAF</td>\n",
       "      <td>Afrique du Sud</td>\n",
       "      <td>6110</td>\n",
       "      <td>Valeur US $</td>\n",
       "      <td>22008</td>\n",
       "      <td>Produit Intérieur Brut</td>\n",
       "      <td>2017</td>\n",
       "      <td>2017</td>\n",
       "      <td>millions</td>\n",
       "      <td>349006.689642</td>\n",
       "      <td>X</td>\n",
       "      <td>Ciffre de sources internationales</td>\n",
       "      <td>NaN</td>\n",
       "    </tr>\n",
       "    <tr>\n",
       "      <th>2</th>\n",
       "      <td>MK</td>\n",
       "      <td>Indicateurs macro</td>\n",
       "      <td>ALB</td>\n",
       "      <td>Albanie</td>\n",
       "      <td>6110</td>\n",
       "      <td>Valeur US $</td>\n",
       "      <td>22008</td>\n",
       "      <td>Produit Intérieur Brut</td>\n",
       "      <td>2017</td>\n",
       "      <td>2017</td>\n",
       "      <td>millions</td>\n",
       "      <td>13019.729856</td>\n",
       "      <td>X</td>\n",
       "      <td>Ciffre de sources internationales</td>\n",
       "      <td>NaN</td>\n",
       "    </tr>\n",
       "  </tbody>\n",
       "</table>\n",
       "</div>"
      ],
      "text/plain": [
       "  code_domaine            domaine code_zone_iso3            zone  \\\n",
       "0           MK  Indicateurs macro            AFG     Afghanistan   \n",
       "1           MK  Indicateurs macro            ZAF  Afrique du Sud   \n",
       "2           MK  Indicateurs macro            ALB         Albanie   \n",
       "\n",
       "   code_element      element  code_produit                 produit  \\\n",
       "0          6110  Valeur US $         22008  Produit Intérieur Brut   \n",
       "1          6110  Valeur US $         22008  Produit Intérieur Brut   \n",
       "2          6110  Valeur US $         22008  Produit Intérieur Brut   \n",
       "\n",
       "   code_annee  annee     unite         valeur symbole  \\\n",
       "0        2017   2017  millions   18896.352021       X   \n",
       "1        2017   2017  millions  349006.689642       X   \n",
       "2        2017   2017  millions   13019.729856       X   \n",
       "\n",
       "              description_du_symbole  note  \n",
       "0  Ciffre de sources internationales   NaN  \n",
       "1  Ciffre de sources internationales   NaN  \n",
       "2  Ciffre de sources internationales   NaN  "
      ]
     },
     "execution_count": 38,
     "metadata": {},
     "output_type": "execute_result"
    }
   ],
   "source": [
    "pib_2017.head(3)"
   ]
  },
  {
   "cell_type": "code",
   "execution_count": 39,
   "id": "4f751112",
   "metadata": {},
   "outputs": [],
   "source": [
    "# on stocke les unités\n",
    "pib_units = pib_2017[['element', 'unite']].drop_duplicates()"
   ]
  },
  {
   "cell_type": "code",
   "execution_count": 40,
   "id": "ddfccd57",
   "metadata": {},
   "outputs": [],
   "source": [
    "cols = ['code_zone_iso3', 'zone','valeur']\n",
    "pib_2017 = pib_2017[cols]\n",
    "pib_2017.rename(columns={'valeur': 'pib_M_usd'}, inplace=True)  # \"M_usd\" pour millions de dollars US"
   ]
  },
  {
   "cell_type": "code",
   "execution_count": 41,
   "id": "ac05a10e",
   "metadata": {},
   "outputs": [
    {
     "data": {
      "text/html": [
       "<div>\n",
       "<style scoped>\n",
       "    .dataframe tbody tr th:only-of-type {\n",
       "        vertical-align: middle;\n",
       "    }\n",
       "\n",
       "    .dataframe tbody tr th {\n",
       "        vertical-align: top;\n",
       "    }\n",
       "\n",
       "    .dataframe thead th {\n",
       "        text-align: right;\n",
       "    }\n",
       "</style>\n",
       "<table border=\"1\" class=\"dataframe\">\n",
       "  <thead>\n",
       "    <tr style=\"text-align: right;\">\n",
       "      <th></th>\n",
       "      <th>code_zone_iso3</th>\n",
       "      <th>zone</th>\n",
       "      <th>pib_M_usd</th>\n",
       "    </tr>\n",
       "  </thead>\n",
       "  <tbody>\n",
       "    <tr>\n",
       "      <th>0</th>\n",
       "      <td>AFG</td>\n",
       "      <td>Afghanistan</td>\n",
       "      <td>18896.352021</td>\n",
       "    </tr>\n",
       "    <tr>\n",
       "      <th>1</th>\n",
       "      <td>ZAF</td>\n",
       "      <td>Afrique du Sud</td>\n",
       "      <td>349006.689642</td>\n",
       "    </tr>\n",
       "    <tr>\n",
       "      <th>2</th>\n",
       "      <td>ALB</td>\n",
       "      <td>Albanie</td>\n",
       "      <td>13019.729856</td>\n",
       "    </tr>\n",
       "  </tbody>\n",
       "</table>\n",
       "</div>"
      ],
      "text/plain": [
       "  code_zone_iso3            zone      pib_M_usd\n",
       "0            AFG     Afghanistan   18896.352021\n",
       "1            ZAF  Afrique du Sud  349006.689642\n",
       "2            ALB         Albanie   13019.729856"
      ]
     },
     "execution_count": 41,
     "metadata": {},
     "output_type": "execute_result"
    }
   ],
   "source": [
    "pib_2017.head(3)"
   ]
  },
  {
   "cell_type": "code",
   "execution_count": 42,
   "id": "dd59a2ad",
   "metadata": {},
   "outputs": [
    {
     "data": {
      "text/plain": [
       "code_zone_iso3    0\n",
       "zone              0\n",
       "pib_M_usd         0\n",
       "dtype: int64"
      ]
     },
     "execution_count": 42,
     "metadata": {},
     "output_type": "execute_result"
    }
   ],
   "source": [
    "pib_2017.isna().sum()"
   ]
  },
  {
   "cell_type": "markdown",
   "id": "0356355d",
   "metadata": {},
   "source": [
    "### Indicateurs de gouvernance"
   ]
  },
  {
   "cell_type": "code",
   "execution_count": 43,
   "id": "64cb95b5",
   "metadata": {},
   "outputs": [],
   "source": [
    "gov_indicators = gov_indicators_raw.copy() \\\n",
    "    .rename(columns=format_col_name)"
   ]
  },
  {
   "cell_type": "code",
   "execution_count": 44,
   "id": "80749867",
   "metadata": {},
   "outputs": [
    {
     "data": {
      "text/html": [
       "<div>\n",
       "<style scoped>\n",
       "    .dataframe tbody tr th:only-of-type {\n",
       "        vertical-align: middle;\n",
       "    }\n",
       "\n",
       "    .dataframe tbody tr th {\n",
       "        vertical-align: top;\n",
       "    }\n",
       "\n",
       "    .dataframe thead th {\n",
       "        text-align: right;\n",
       "    }\n",
       "</style>\n",
       "<table border=\"1\" class=\"dataframe\">\n",
       "  <thead>\n",
       "    <tr style=\"text-align: right;\">\n",
       "      <th></th>\n",
       "      <th>country_name</th>\n",
       "      <th>country_code</th>\n",
       "      <th>series_name</th>\n",
       "      <th>series_code</th>\n",
       "      <th>2000_[yr2000]</th>\n",
       "      <th>2002_[yr2002]</th>\n",
       "      <th>2003_[yr2003]</th>\n",
       "      <th>2004_[yr2004]</th>\n",
       "      <th>2005_[yr2005]</th>\n",
       "      <th>2006_[yr2006]</th>\n",
       "      <th>...</th>\n",
       "      <th>2012_[yr2012]</th>\n",
       "      <th>2013_[yr2013]</th>\n",
       "      <th>2014_[yr2014]</th>\n",
       "      <th>2015_[yr2015]</th>\n",
       "      <th>2016_[yr2016]</th>\n",
       "      <th>2017_[yr2017]</th>\n",
       "      <th>2018_[yr2018]</th>\n",
       "      <th>2019_[yr2019]</th>\n",
       "      <th>2020_[yr2020]</th>\n",
       "      <th>2021_[yr2021]</th>\n",
       "    </tr>\n",
       "  </thead>\n",
       "  <tbody>\n",
       "    <tr>\n",
       "      <th>0</th>\n",
       "      <td>Afghanistan</td>\n",
       "      <td>AFG</td>\n",
       "      <td>Control of Corruption: Estimate</td>\n",
       "      <td>CC.EST</td>\n",
       "      <td>-1.27172422409058</td>\n",
       "      <td>-1.25113701820374</td>\n",
       "      <td>-1.34417974948883</td>\n",
       "      <td>-1.35064733028412</td>\n",
       "      <td>-1.44725239276886</td>\n",
       "      <td>-1.44629228115082</td>\n",
       "      <td>...</td>\n",
       "      <td>-1.43037283420563</td>\n",
       "      <td>-1.44590842723846</td>\n",
       "      <td>-1.36474287509918</td>\n",
       "      <td>-1.3485871553421</td>\n",
       "      <td>-1.53404927253723</td>\n",
       "      <td>-1.52172565460205</td>\n",
       "      <td>-1.48977172374725</td>\n",
       "      <td>-1.40771043300629</td>\n",
       "      <td>-1.48053777217865</td>\n",
       "      <td>-1.14237689971924</td>\n",
       "    </tr>\n",
       "    <tr>\n",
       "      <th>1</th>\n",
       "      <td>Afghanistan</td>\n",
       "      <td>AFG</td>\n",
       "      <td>Government Effectiveness: Estimate</td>\n",
       "      <td>GE.EST</td>\n",
       "      <td>-2.17394614219666</td>\n",
       "      <td>-1.58768701553345</td>\n",
       "      <td>-1.12741959095001</td>\n",
       "      <td>-0.909888744354248</td>\n",
       "      <td>-1.2172384262085</td>\n",
       "      <td>-1.46551132202148</td>\n",
       "      <td>...</td>\n",
       "      <td>-1.37641882896423</td>\n",
       "      <td>-1.4007453918457</td>\n",
       "      <td>-1.36231827735901</td>\n",
       "      <td>-1.35180771350861</td>\n",
       "      <td>-1.25418150424957</td>\n",
       "      <td>-1.35992228984833</td>\n",
       "      <td>-1.47929918766022</td>\n",
       "      <td>-1.49562668800354</td>\n",
       "      <td>-1.58514487743378</td>\n",
       "      <td>-1.63436961174011</td>\n",
       "    </tr>\n",
       "    <tr>\n",
       "      <th>2</th>\n",
       "      <td>Afghanistan</td>\n",
       "      <td>AFG</td>\n",
       "      <td>Political Stability and Absence of Violence/Te...</td>\n",
       "      <td>PV.EST</td>\n",
       "      <td>-2.43896889686584</td>\n",
       "      <td>-2.03503370285034</td>\n",
       "      <td>-2.19837236404419</td>\n",
       "      <td>-2.29568219184875</td>\n",
       "      <td>-2.06750988960266</td>\n",
       "      <td>-2.21913456916809</td>\n",
       "      <td>...</td>\n",
       "      <td>-2.41856145858765</td>\n",
       "      <td>-2.51934909820557</td>\n",
       "      <td>-2.41106843948364</td>\n",
       "      <td>-2.57122182846069</td>\n",
       "      <td>-2.67105388641357</td>\n",
       "      <td>-2.80108380317688</td>\n",
       "      <td>-2.76386427879334</td>\n",
       "      <td>-2.65553116798401</td>\n",
       "      <td>-2.70502972602844</td>\n",
       "      <td>-2.52985525131226</td>\n",
       "    </tr>\n",
       "  </tbody>\n",
       "</table>\n",
       "<p>3 rows × 25 columns</p>\n",
       "</div>"
      ],
      "text/plain": [
       "  country_name country_code  \\\n",
       "0  Afghanistan          AFG   \n",
       "1  Afghanistan          AFG   \n",
       "2  Afghanistan          AFG   \n",
       "\n",
       "                                         series_name series_code  \\\n",
       "0                    Control of Corruption: Estimate      CC.EST   \n",
       "1                 Government Effectiveness: Estimate      GE.EST   \n",
       "2  Political Stability and Absence of Violence/Te...      PV.EST   \n",
       "\n",
       "       2000_[yr2000]      2002_[yr2002]      2003_[yr2003]  \\\n",
       "0  -1.27172422409058  -1.25113701820374  -1.34417974948883   \n",
       "1  -2.17394614219666  -1.58768701553345  -1.12741959095001   \n",
       "2  -2.43896889686584  -2.03503370285034  -2.19837236404419   \n",
       "\n",
       "        2004_[yr2004]      2005_[yr2005]      2006_[yr2006]  ...  \\\n",
       "0   -1.35064733028412  -1.44725239276886  -1.44629228115082  ...   \n",
       "1  -0.909888744354248   -1.2172384262085  -1.46551132202148  ...   \n",
       "2   -2.29568219184875  -2.06750988960266  -2.21913456916809  ...   \n",
       "\n",
       "       2012_[yr2012]      2013_[yr2013]      2014_[yr2014]      2015_[yr2015]  \\\n",
       "0  -1.43037283420563  -1.44590842723846  -1.36474287509918   -1.3485871553421   \n",
       "1  -1.37641882896423   -1.4007453918457  -1.36231827735901  -1.35180771350861   \n",
       "2  -2.41856145858765  -2.51934909820557  -2.41106843948364  -2.57122182846069   \n",
       "\n",
       "       2016_[yr2016]      2017_[yr2017]      2018_[yr2018]      2019_[yr2019]  \\\n",
       "0  -1.53404927253723  -1.52172565460205  -1.48977172374725  -1.40771043300629   \n",
       "1  -1.25418150424957  -1.35992228984833  -1.47929918766022  -1.49562668800354   \n",
       "2  -2.67105388641357  -2.80108380317688  -2.76386427879334  -2.65553116798401   \n",
       "\n",
       "       2020_[yr2020]      2021_[yr2021]  \n",
       "0  -1.48053777217865  -1.14237689971924  \n",
       "1  -1.58514487743378  -1.63436961174011  \n",
       "2  -2.70502972602844  -2.52985525131226  \n",
       "\n",
       "[3 rows x 25 columns]"
      ]
     },
     "execution_count": 44,
     "metadata": {},
     "output_type": "execute_result"
    }
   ],
   "source": [
    "gov_indicators.head(3)"
   ]
  },
  {
   "cell_type": "code",
   "execution_count": 45,
   "id": "b46d345e",
   "metadata": {},
   "outputs": [],
   "source": [
    "cols = ['country_name', 'country_code', 'series_name', '2017_[yr2017]']\n",
    "gov_indicators_2017 = gov_indicators[cols].copy()\n",
    "\n",
    "gov_indicators_2017 = gov_indicators_2017 \\\n",
    "    .dropna() \\\n",
    "    .pivot(\n",
    "        index=['country_name', 'country_code'],\n",
    "        columns='series_name',\n",
    "        values='2017_[yr2017]') \\\n",
    "    .rename(columns=format_col_name)"
   ]
  },
  {
   "cell_type": "code",
   "execution_count": 46,
   "id": "4367149e",
   "metadata": {},
   "outputs": [],
   "source": [
    "gov_indicators_2017.columns = [col.replace(':_estimate', '') for col in gov_indicators_2017.columns]\n",
    "\n",
    "gov_indicators_2017 = gov_indicators_2017 \\\n",
    "    .rename(columns={'political_stability_and_absence_of_violence_terrorism': 'political_stability'}) \\\n",
    "    .reset_index()"
   ]
  },
  {
   "cell_type": "code",
   "execution_count": 47,
   "id": "74022ebc",
   "metadata": {},
   "outputs": [
    {
     "data": {
      "text/html": [
       "<div>\n",
       "<style scoped>\n",
       "    .dataframe tbody tr th:only-of-type {\n",
       "        vertical-align: middle;\n",
       "    }\n",
       "\n",
       "    .dataframe tbody tr th {\n",
       "        vertical-align: top;\n",
       "    }\n",
       "\n",
       "    .dataframe thead th {\n",
       "        text-align: right;\n",
       "    }\n",
       "</style>\n",
       "<table border=\"1\" class=\"dataframe\">\n",
       "  <thead>\n",
       "    <tr style=\"text-align: right;\">\n",
       "      <th></th>\n",
       "      <th>country_name</th>\n",
       "      <th>country_code</th>\n",
       "      <th>control_of_corruption</th>\n",
       "      <th>government_effectiveness</th>\n",
       "      <th>political_stability</th>\n",
       "      <th>regulatory_quality</th>\n",
       "      <th>rule_of_law</th>\n",
       "      <th>voice_and_accountability</th>\n",
       "    </tr>\n",
       "  </thead>\n",
       "  <tbody>\n",
       "    <tr>\n",
       "      <th>0</th>\n",
       "      <td>Afghanistan</td>\n",
       "      <td>AFG</td>\n",
       "      <td>-1.52172565460205</td>\n",
       "      <td>-1.35992228984833</td>\n",
       "      <td>-2.80108380317688</td>\n",
       "      <td>-1.35537278652191</td>\n",
       "      <td>-1.5775955915451</td>\n",
       "      <td>-0.990813970565796</td>\n",
       "    </tr>\n",
       "    <tr>\n",
       "      <th>1</th>\n",
       "      <td>Albania</td>\n",
       "      <td>ALB</td>\n",
       "      <td>-0.458256989717484</td>\n",
       "      <td>0.128729850053787</td>\n",
       "      <td>0.378474771976471</td>\n",
       "      <td>0.233086720108986</td>\n",
       "      <td>-0.395079284906387</td>\n",
       "      <td>0.203805893659592</td>\n",
       "    </tr>\n",
       "    <tr>\n",
       "      <th>2</th>\n",
       "      <td>Algeria</td>\n",
       "      <td>DZA</td>\n",
       "      <td>-0.576397895812988</td>\n",
       "      <td>-0.506708323955536</td>\n",
       "      <td>-0.915799140930176</td>\n",
       "      <td>-1.25940835475922</td>\n",
       "      <td>-0.91266143321991</td>\n",
       "      <td>-0.902943968772888</td>\n",
       "    </tr>\n",
       "  </tbody>\n",
       "</table>\n",
       "</div>"
      ],
      "text/plain": [
       "  country_name country_code control_of_corruption government_effectiveness  \\\n",
       "0  Afghanistan          AFG     -1.52172565460205        -1.35992228984833   \n",
       "1      Albania          ALB    -0.458256989717484        0.128729850053787   \n",
       "2      Algeria          DZA    -0.576397895812988       -0.506708323955536   \n",
       "\n",
       "  political_stability regulatory_quality         rule_of_law  \\\n",
       "0   -2.80108380317688  -1.35537278652191    -1.5775955915451   \n",
       "1   0.378474771976471  0.233086720108986  -0.395079284906387   \n",
       "2  -0.915799140930176  -1.25940835475922   -0.91266143321991   \n",
       "\n",
       "  voice_and_accountability  \n",
       "0       -0.990813970565796  \n",
       "1        0.203805893659592  \n",
       "2       -0.902943968772888  "
      ]
     },
     "execution_count": 47,
     "metadata": {},
     "output_type": "execute_result"
    }
   ],
   "source": [
    "gov_indicators_2017.head(3)"
   ]
  },
  {
   "cell_type": "code",
   "execution_count": 48,
   "id": "d265eb06",
   "metadata": {},
   "outputs": [
    {
     "data": {
      "text/plain": [
       "country_name                0\n",
       "country_code                0\n",
       "control_of_corruption       0\n",
       "government_effectiveness    0\n",
       "political_stability         0\n",
       "regulatory_quality          0\n",
       "rule_of_law                 0\n",
       "voice_and_accountability    0\n",
       "dtype: int64"
      ]
     },
     "execution_count": 48,
     "metadata": {},
     "output_type": "execute_result"
    }
   ],
   "source": [
    "gov_indicators_2017.isna().sum()"
   ]
  },
  {
   "cell_type": "markdown",
   "id": "7f79c88a",
   "metadata": {},
   "source": [
    "### Distance à la France"
   ]
  },
  {
   "cell_type": "markdown",
   "id": "a7fc732a-59a3-48d4-8535-cf9c99c92c96",
   "metadata": {},
   "source": [
    "Une distance à la France importante peut représenter un coût d'exportation plus élevé."
   ]
  },
  {
   "cell_type": "code",
   "execution_count": 49,
   "id": "bd2bd336",
   "metadata": {},
   "outputs": [],
   "source": [
    "iso2.dropna(inplace=True)\n",
    "iso3.dropna(inplace=True)\n",
    "country_coords.dropna(inplace=True)"
   ]
  },
  {
   "cell_type": "code",
   "execution_count": 50,
   "id": "ca4dad71",
   "metadata": {},
   "outputs": [],
   "source": [
    "country_coords.rename(columns={'country': 'iso2'}, inplace=True)"
   ]
  },
  {
   "cell_type": "code",
   "execution_count": 51,
   "id": "5a09f0ab",
   "metadata": {},
   "outputs": [],
   "source": [
    "country_coords = country_coords[['iso2', 'latitude', 'longitude']] \\\n",
    "    .merge(iso2) \\\n",
    "    .merge(iso3)"
   ]
  },
  {
   "cell_type": "code",
   "execution_count": 52,
   "id": "72a54413",
   "metadata": {},
   "outputs": [],
   "source": [
    "country_coords = country_coords[['iso2', 'iso3', 'name', 'latitude', 'longitude']]"
   ]
  },
  {
   "cell_type": "code",
   "execution_count": 53,
   "id": "13fb758c",
   "metadata": {},
   "outputs": [],
   "source": [
    "def get_coords(country, by='name'):\n",
    "    mask = country_coords[by] == country\n",
    "    lat, lon = country_coords.loc[mask, ['latitude', 'longitude']].values[0]\n",
    "    return lat, lon"
   ]
  },
  {
   "cell_type": "code",
   "execution_count": 54,
   "id": "c162b28d",
   "metadata": {},
   "outputs": [],
   "source": [
    "def distance_to_france(country, by='name'):\n",
    "    country = get_coords(country, by=by)\n",
    "    france = get_coords('France')\n",
    "    return distance.distance(france, country).km"
   ]
  },
  {
   "cell_type": "code",
   "execution_count": 55,
   "id": "e37f2603",
   "metadata": {},
   "outputs": [],
   "source": [
    "country_coords['distance_to_france'] = country_coords['name'].map(distance_to_france)"
   ]
  },
  {
   "cell_type": "code",
   "execution_count": 56,
   "id": "ab14a210",
   "metadata": {},
   "outputs": [
    {
     "data": {
      "text/html": [
       "<div>\n",
       "<style scoped>\n",
       "    .dataframe tbody tr th:only-of-type {\n",
       "        vertical-align: middle;\n",
       "    }\n",
       "\n",
       "    .dataframe tbody tr th {\n",
       "        vertical-align: top;\n",
       "    }\n",
       "\n",
       "    .dataframe thead th {\n",
       "        text-align: right;\n",
       "    }\n",
       "</style>\n",
       "<table border=\"1\" class=\"dataframe\">\n",
       "  <thead>\n",
       "    <tr style=\"text-align: right;\">\n",
       "      <th></th>\n",
       "      <th>iso2</th>\n",
       "      <th>iso3</th>\n",
       "      <th>name</th>\n",
       "      <th>latitude</th>\n",
       "      <th>longitude</th>\n",
       "      <th>distance_to_france</th>\n",
       "    </tr>\n",
       "  </thead>\n",
       "  <tbody>\n",
       "    <tr>\n",
       "      <th>0</th>\n",
       "      <td>AD</td>\n",
       "      <td>AND</td>\n",
       "      <td>Andorra</td>\n",
       "      <td>42.546245</td>\n",
       "      <td>1.601554</td>\n",
       "      <td>411.970116</td>\n",
       "    </tr>\n",
       "    <tr>\n",
       "      <th>1</th>\n",
       "      <td>AE</td>\n",
       "      <td>ARE</td>\n",
       "      <td>United Arab Emirates</td>\n",
       "      <td>23.424076</td>\n",
       "      <td>53.847818</td>\n",
       "      <td>5240.398413</td>\n",
       "    </tr>\n",
       "    <tr>\n",
       "      <th>2</th>\n",
       "      <td>AF</td>\n",
       "      <td>AFG</td>\n",
       "      <td>Afghanistan</td>\n",
       "      <td>33.939110</td>\n",
       "      <td>67.709953</td>\n",
       "      <td>5585.579825</td>\n",
       "    </tr>\n",
       "  </tbody>\n",
       "</table>\n",
       "</div>"
      ],
      "text/plain": [
       "  iso2 iso3                  name   latitude  longitude  distance_to_france\n",
       "0   AD  AND               Andorra  42.546245   1.601554          411.970116\n",
       "1   AE  ARE  United Arab Emirates  23.424076  53.847818         5240.398413\n",
       "2   AF  AFG           Afghanistan  33.939110  67.709953         5585.579825"
      ]
     },
     "execution_count": 56,
     "metadata": {},
     "output_type": "execute_result"
    }
   ],
   "source": [
    "country_coords.head(3)"
   ]
  },
  {
   "cell_type": "markdown",
   "id": "cb04cf0e",
   "metadata": {},
   "source": [
    "## Jointure des tables"
   ]
  },
  {
   "cell_type": "markdown",
   "id": "8b316e21-5a19-408e-8d0a-ccab49bc5692",
   "metadata": {},
   "source": [
    "On réalise les jointures une par une en vérifiant le résultat de la jointure à chaque fois."
   ]
  },
  {
   "cell_type": "markdown",
   "id": "ae3a12f7-5573-40ea-a3ed-43a8a28c69ef",
   "metadata": {},
   "source": [
    "### Jointure entre les tables `dispo_alim_vol` et `dispo_alim_vol_pct`"
   ]
  },
  {
   "cell_type": "code",
   "execution_count": 57,
   "id": "9c6644a4",
   "metadata": {},
   "outputs": [],
   "source": [
    "data = dispo_alim_vol_2017.merge(\n",
    "    right=dispo_alim_vol_pct[['code_zone_iso3', 'dispo_alim_vol_pct']],\n",
    "    how='outer',\n",
    "    on='code_zone_iso3',\n",
    "    indicator=True\n",
    ")"
   ]
  },
  {
   "cell_type": "code",
   "execution_count": 58,
   "id": "42a3f78c",
   "metadata": {},
   "outputs": [
    {
     "data": {
      "text/plain": [
       "both          180\n",
       "left_only       0\n",
       "right_only      0\n",
       "Name: _merge, dtype: int64"
      ]
     },
     "execution_count": 58,
     "metadata": {},
     "output_type": "execute_result"
    }
   ],
   "source": [
    "data['_merge'].value_counts()"
   ]
  },
  {
   "cell_type": "code",
   "execution_count": 59,
   "id": "e1669470",
   "metadata": {},
   "outputs": [],
   "source": [
    "data.drop(columns='_merge', inplace=True)"
   ]
  },
  {
   "cell_type": "markdown",
   "id": "9163a673-6a0e-492a-8336-294173fb7d3e",
   "metadata": {},
   "source": [
    "### Jointure entre les tables `data` et `import_tot_pct`"
   ]
  },
  {
   "cell_type": "code",
   "execution_count": 60,
   "id": "044d30fa",
   "metadata": {},
   "outputs": [],
   "source": [
    "data = data.merge(\n",
    "    right=import_tot_pct[['code_zone_iso3', 'import_tot_pct']],\n",
    "    how='outer',\n",
    "    on='code_zone_iso3',\n",
    "    indicator=True\n",
    ")"
   ]
  },
  {
   "cell_type": "code",
   "execution_count": 61,
   "id": "8932fe08",
   "metadata": {},
   "outputs": [
    {
     "data": {
      "text/plain": [
       "both          180\n",
       "left_only       0\n",
       "right_only      0\n",
       "Name: _merge, dtype: int64"
      ]
     },
     "execution_count": 61,
     "metadata": {},
     "output_type": "execute_result"
    }
   ],
   "source": [
    "data['_merge'].value_counts()"
   ]
  },
  {
   "cell_type": "code",
   "execution_count": 62,
   "id": "671989e2",
   "metadata": {},
   "outputs": [],
   "source": [
    "data.drop(columns='_merge', inplace=True)"
   ]
  },
  {
   "cell_type": "markdown",
   "id": "0e9e60b3-0ecf-4de3-9457-cd37b200d8af",
   "metadata": {},
   "source": [
    "### Jointure entre les tables `data` et `pop`"
   ]
  },
  {
   "cell_type": "code",
   "execution_count": 63,
   "id": "7d55a577",
   "metadata": {},
   "outputs": [],
   "source": [
    "data = data.merge(\n",
    "    right=pop_2017.drop('zone', axis=1),\n",
    "    how='outer',\n",
    "    on='code_zone_iso3',\n",
    "    indicator=True\n",
    ")"
   ]
  },
  {
   "cell_type": "code",
   "execution_count": 64,
   "id": "49c8ac0d",
   "metadata": {},
   "outputs": [
    {
     "data": {
      "text/plain": [
       "both          180\n",
       "right_only     55\n",
       "left_only       0\n",
       "Name: _merge, dtype: int64"
      ]
     },
     "execution_count": 64,
     "metadata": {},
     "output_type": "execute_result"
    }
   ],
   "source": [
    "data['_merge'].value_counts()"
   ]
  },
  {
   "cell_type": "code",
   "execution_count": 65,
   "id": "b2f488f7",
   "metadata": {},
   "outputs": [],
   "source": [
    "data = data.loc[data['_merge'] == 'both'].drop(columns='_merge')"
   ]
  },
  {
   "cell_type": "markdown",
   "id": "76231ed3-d38c-4d7b-8982-e539c39be94e",
   "metadata": {},
   "source": [
    "### Jointure entre les tables `data` et `taux_croissance_pop`"
   ]
  },
  {
   "cell_type": "code",
   "execution_count": 66,
   "id": "a4826c25",
   "metadata": {},
   "outputs": [],
   "source": [
    "data = data.merge(\n",
    "    right=taux_croissance_pop[['code_zone_iso3', 'taux_croissance_pop']],\n",
    "    how='outer',\n",
    "    on='code_zone_iso3',\n",
    "    indicator=True\n",
    ")"
   ]
  },
  {
   "cell_type": "code",
   "execution_count": 67,
   "id": "6eb6db57",
   "metadata": {},
   "outputs": [
    {
     "data": {
      "text/plain": [
       "both          180\n",
       "right_only     57\n",
       "left_only       0\n",
       "Name: _merge, dtype: int64"
      ]
     },
     "execution_count": 67,
     "metadata": {},
     "output_type": "execute_result"
    }
   ],
   "source": [
    "data['_merge'].value_counts()"
   ]
  },
  {
   "cell_type": "code",
   "execution_count": 68,
   "id": "b4e6e09d",
   "metadata": {},
   "outputs": [],
   "source": [
    "data = data.loc[data['_merge'] == 'both'].drop(columns='_merge')"
   ]
  },
  {
   "cell_type": "markdown",
   "id": "1f7ba15a-ed23-4977-bc13-a2bc088207c3",
   "metadata": {},
   "source": [
    "### Jointure entre les tables `data` et `pib`"
   ]
  },
  {
   "cell_type": "code",
   "execution_count": 69,
   "id": "08433eb7",
   "metadata": {},
   "outputs": [],
   "source": [
    "data = data.merge(right=pib_2017.drop('zone', axis=1),\n",
    "                  how='outer',\n",
    "                  on='code_zone_iso3',\n",
    "                  indicator=True)"
   ]
  },
  {
   "cell_type": "code",
   "execution_count": 70,
   "id": "e390c1e8",
   "metadata": {},
   "outputs": [
    {
     "data": {
      "text/plain": [
       "both          179\n",
       "right_only     32\n",
       "left_only       1\n",
       "Name: _merge, dtype: int64"
      ]
     },
     "execution_count": 70,
     "metadata": {},
     "output_type": "execute_result"
    }
   ],
   "source": [
    "data['_merge'].value_counts()"
   ]
  },
  {
   "cell_type": "code",
   "execution_count": 71,
   "id": "3b579539",
   "metadata": {},
   "outputs": [
    {
     "data": {
      "text/html": [
       "<div>\n",
       "<style scoped>\n",
       "    .dataframe tbody tr th:only-of-type {\n",
       "        vertical-align: middle;\n",
       "    }\n",
       "\n",
       "    .dataframe tbody tr th {\n",
       "        vertical-align: top;\n",
       "    }\n",
       "\n",
       "    .dataframe thead th {\n",
       "        text-align: right;\n",
       "    }\n",
       "</style>\n",
       "<table border=\"1\" class=\"dataframe\">\n",
       "  <thead>\n",
       "    <tr style=\"text-align: right;\">\n",
       "      <th></th>\n",
       "      <th>code_zone_iso3</th>\n",
       "      <th>zone</th>\n",
       "      <th>alim_touristes</th>\n",
       "      <th>autres_utilisations</th>\n",
       "      <th>dispo_alim_kcal_pers_jour</th>\n",
       "      <th>dispo_alim_kg_pers_an</th>\n",
       "      <th>dispo_matiere_grasse_g_pers_jour</th>\n",
       "      <th>dispo_proteines_g_pers_jour</th>\n",
       "      <th>dispo_int</th>\n",
       "      <th>exportations</th>\n",
       "      <th>...</th>\n",
       "      <th>production</th>\n",
       "      <th>residus</th>\n",
       "      <th>traitement</th>\n",
       "      <th>variation_de_stock</th>\n",
       "      <th>dispo_alim_vol_pct</th>\n",
       "      <th>import_tot_pct</th>\n",
       "      <th>population_m</th>\n",
       "      <th>taux_croissance_pop</th>\n",
       "      <th>pib_M_usd</th>\n",
       "      <th>_merge</th>\n",
       "    </tr>\n",
       "  </thead>\n",
       "  <tbody>\n",
       "    <tr>\n",
       "      <th>164</th>\n",
       "      <td>TWN</td>\n",
       "      <td>Chine, Taiwan Province de</td>\n",
       "      <td>NaN</td>\n",
       "      <td>0.0</td>\n",
       "      <td>127.0</td>\n",
       "      <td>33.43</td>\n",
       "      <td>8.85</td>\n",
       "      <td>11.1</td>\n",
       "      <td>792.0</td>\n",
       "      <td>8.0</td>\n",
       "      <td>...</td>\n",
       "      <td>657.0</td>\n",
       "      <td>0.0</td>\n",
       "      <td>NaN</td>\n",
       "      <td>18.0</td>\n",
       "      <td>4.302168</td>\n",
       "      <td>53.384849</td>\n",
       "      <td>23665.024</td>\n",
       "      <td>0.310636</td>\n",
       "      <td>NaN</td>\n",
       "      <td>left_only</td>\n",
       "    </tr>\n",
       "  </tbody>\n",
       "</table>\n",
       "<p>1 rows × 23 columns</p>\n",
       "</div>"
      ],
      "text/plain": [
       "    code_zone_iso3                       zone  alim_touristes  \\\n",
       "164            TWN  Chine, Taiwan Province de             NaN   \n",
       "\n",
       "     autres_utilisations  dispo_alim_kcal_pers_jour  dispo_alim_kg_pers_an  \\\n",
       "164                  0.0                      127.0                  33.43   \n",
       "\n",
       "     dispo_matiere_grasse_g_pers_jour  dispo_proteines_g_pers_jour  dispo_int  \\\n",
       "164                              8.85                         11.1      792.0   \n",
       "\n",
       "     exportations  ...  production  residus  traitement  variation_de_stock  \\\n",
       "164           8.0  ...       657.0      0.0         NaN                18.0   \n",
       "\n",
       "     dispo_alim_vol_pct  import_tot_pct  population_m  taux_croissance_pop  \\\n",
       "164            4.302168       53.384849     23665.024             0.310636   \n",
       "\n",
       "     pib_M_usd     _merge  \n",
       "164        NaN  left_only  \n",
       "\n",
       "[1 rows x 23 columns]"
      ]
     },
     "execution_count": 71,
     "metadata": {},
     "output_type": "execute_result"
    }
   ],
   "source": [
    "data.loc[data['_merge'] == 'left_only']"
   ]
  },
  {
   "cell_type": "markdown",
   "id": "3451f6fc",
   "metadata": {},
   "source": [
    "Il nous manque le PIB de Taiwan pour l'année 2017. Les données seront imputées dans la partie suivante."
   ]
  },
  {
   "cell_type": "code",
   "execution_count": 72,
   "id": "30ab85e3",
   "metadata": {},
   "outputs": [],
   "source": [
    "data = data.loc[~(data['_merge'] == 'right_only')].drop(columns='_merge')"
   ]
  },
  {
   "cell_type": "markdown",
   "id": "de3f5acf-c89e-4492-8fb8-7dba7d931baf",
   "metadata": {},
   "source": [
    "### Jointure entre les tables `data` et `gov_indicators`"
   ]
  },
  {
   "cell_type": "code",
   "execution_count": 73,
   "id": "6095a23e",
   "metadata": {},
   "outputs": [],
   "source": [
    "data = data.merge(\n",
    "    right=gov_indicators_2017,\n",
    "    how='outer',\n",
    "    left_on='code_zone_iso3',\n",
    "    right_on='country_code',\n",
    "    indicator=True\n",
    ")"
   ]
  },
  {
   "cell_type": "code",
   "execution_count": 74,
   "id": "ed9a9932",
   "metadata": {},
   "outputs": [
    {
     "data": {
      "text/plain": [
       "both          177\n",
       "right_only     37\n",
       "left_only       3\n",
       "Name: _merge, dtype: int64"
      ]
     },
     "execution_count": 74,
     "metadata": {},
     "output_type": "execute_result"
    }
   ],
   "source": [
    "data['_merge'].value_counts()"
   ]
  },
  {
   "cell_type": "code",
   "execution_count": 75,
   "id": "f7f92294",
   "metadata": {},
   "outputs": [
    {
     "data": {
      "text/html": [
       "<div>\n",
       "<style scoped>\n",
       "    .dataframe tbody tr th:only-of-type {\n",
       "        vertical-align: middle;\n",
       "    }\n",
       "\n",
       "    .dataframe tbody tr th {\n",
       "        vertical-align: top;\n",
       "    }\n",
       "\n",
       "    .dataframe thead th {\n",
       "        text-align: right;\n",
       "    }\n",
       "</style>\n",
       "<table border=\"1\" class=\"dataframe\">\n",
       "  <thead>\n",
       "    <tr style=\"text-align: right;\">\n",
       "      <th></th>\n",
       "      <th>code_zone_iso3</th>\n",
       "      <th>zone</th>\n",
       "      <th>alim_touristes</th>\n",
       "      <th>autres_utilisations</th>\n",
       "      <th>dispo_alim_kcal_pers_jour</th>\n",
       "      <th>dispo_alim_kg_pers_an</th>\n",
       "      <th>dispo_matiere_grasse_g_pers_jour</th>\n",
       "      <th>dispo_proteines_g_pers_jour</th>\n",
       "      <th>dispo_int</th>\n",
       "      <th>exportations</th>\n",
       "      <th>...</th>\n",
       "      <th>pib_M_usd</th>\n",
       "      <th>country_name</th>\n",
       "      <th>country_code</th>\n",
       "      <th>control_of_corruption</th>\n",
       "      <th>government_effectiveness</th>\n",
       "      <th>political_stability</th>\n",
       "      <th>regulatory_quality</th>\n",
       "      <th>rule_of_law</th>\n",
       "      <th>voice_and_accountability</th>\n",
       "      <th>_merge</th>\n",
       "    </tr>\n",
       "  </thead>\n",
       "  <tbody>\n",
       "    <tr>\n",
       "      <th>51</th>\n",
       "      <td>F41</td>\n",
       "      <td>Chine, continentale</td>\n",
       "      <td>NaN</td>\n",
       "      <td>NaN</td>\n",
       "      <td>64.0</td>\n",
       "      <td>13.60</td>\n",
       "      <td>4.98</td>\n",
       "      <td>4.38</td>\n",
       "      <td>18992.0</td>\n",
       "      <td>576.0</td>\n",
       "      <td>...</td>\n",
       "      <td>1.231049e+07</td>\n",
       "      <td>NaN</td>\n",
       "      <td>NaN</td>\n",
       "      <td>NaN</td>\n",
       "      <td>NaN</td>\n",
       "      <td>NaN</td>\n",
       "      <td>NaN</td>\n",
       "      <td>NaN</td>\n",
       "      <td>NaN</td>\n",
       "      <td>left_only</td>\n",
       "    </tr>\n",
       "    <tr>\n",
       "      <th>118</th>\n",
       "      <td>NCL</td>\n",
       "      <td>Nouvelle-Calédonie</td>\n",
       "      <td>0.0</td>\n",
       "      <td>NaN</td>\n",
       "      <td>128.0</td>\n",
       "      <td>36.62</td>\n",
       "      <td>7.90</td>\n",
       "      <td>13.35</td>\n",
       "      <td>10.0</td>\n",
       "      <td>NaN</td>\n",
       "      <td>...</td>\n",
       "      <td>9.174049e+03</td>\n",
       "      <td>NaN</td>\n",
       "      <td>NaN</td>\n",
       "      <td>NaN</td>\n",
       "      <td>NaN</td>\n",
       "      <td>NaN</td>\n",
       "      <td>NaN</td>\n",
       "      <td>NaN</td>\n",
       "      <td>NaN</td>\n",
       "      <td>left_only</td>\n",
       "    </tr>\n",
       "    <tr>\n",
       "      <th>136</th>\n",
       "      <td>PYF</td>\n",
       "      <td>Polynésie française</td>\n",
       "      <td>2.0</td>\n",
       "      <td>0.0</td>\n",
       "      <td>171.0</td>\n",
       "      <td>48.56</td>\n",
       "      <td>11.11</td>\n",
       "      <td>16.59</td>\n",
       "      <td>15.0</td>\n",
       "      <td>0.0</td>\n",
       "      <td>...</td>\n",
       "      <td>5.833353e+03</td>\n",
       "      <td>NaN</td>\n",
       "      <td>NaN</td>\n",
       "      <td>NaN</td>\n",
       "      <td>NaN</td>\n",
       "      <td>NaN</td>\n",
       "      <td>NaN</td>\n",
       "      <td>NaN</td>\n",
       "      <td>NaN</td>\n",
       "      <td>left_only</td>\n",
       "    </tr>\n",
       "  </tbody>\n",
       "</table>\n",
       "<p>3 rows × 31 columns</p>\n",
       "</div>"
      ],
      "text/plain": [
       "    code_zone_iso3                 zone  alim_touristes  autres_utilisations  \\\n",
       "51             F41  Chine, continentale             NaN                  NaN   \n",
       "118            NCL   Nouvelle-Calédonie             0.0                  NaN   \n",
       "136            PYF  Polynésie française             2.0                  0.0   \n",
       "\n",
       "     dispo_alim_kcal_pers_jour  dispo_alim_kg_pers_an  \\\n",
       "51                        64.0                  13.60   \n",
       "118                      128.0                  36.62   \n",
       "136                      171.0                  48.56   \n",
       "\n",
       "     dispo_matiere_grasse_g_pers_jour  dispo_proteines_g_pers_jour  dispo_int  \\\n",
       "51                               4.98                         4.38    18992.0   \n",
       "118                              7.90                        13.35       10.0   \n",
       "136                             11.11                        16.59       15.0   \n",
       "\n",
       "     exportations  ...     pib_M_usd  country_name  country_code  \\\n",
       "51          576.0  ...  1.231049e+07           NaN           NaN   \n",
       "118           NaN  ...  9.174049e+03           NaN           NaN   \n",
       "136           0.0  ...  5.833353e+03           NaN           NaN   \n",
       "\n",
       "     control_of_corruption  government_effectiveness  political_stability  \\\n",
       "51                     NaN                       NaN                  NaN   \n",
       "118                    NaN                       NaN                  NaN   \n",
       "136                    NaN                       NaN                  NaN   \n",
       "\n",
       "     regulatory_quality  rule_of_law  voice_and_accountability     _merge  \n",
       "51                  NaN          NaN                       NaN  left_only  \n",
       "118                 NaN          NaN                       NaN  left_only  \n",
       "136                 NaN          NaN                       NaN  left_only  \n",
       "\n",
       "[3 rows x 31 columns]"
      ]
     },
     "execution_count": 75,
     "metadata": {},
     "output_type": "execute_result"
    }
   ],
   "source": [
    "data.loc[data['_merge'] == 'left_only']"
   ]
  },
  {
   "cell_type": "markdown",
   "id": "b17a2a3a",
   "metadata": {},
   "source": [
    "On peut imputer les indicateurs de gouvernance de la Chine continentale par ceux de la Chine, et ceux de la Nouvelle-Calédonie et de la Polynésie française par ceux de la France. Encore une fois, cette opération sera effectuée dans la partie suivante."
   ]
  },
  {
   "cell_type": "code",
   "execution_count": 76,
   "id": "b0e65250",
   "metadata": {},
   "outputs": [],
   "source": [
    "data = data.loc[~(data['_merge'] == 'right_only')].drop(columns='_merge')"
   ]
  },
  {
   "cell_type": "code",
   "execution_count": 77,
   "id": "3463c1d6",
   "metadata": {},
   "outputs": [
    {
     "data": {
      "text/html": [
       "<div>\n",
       "<style scoped>\n",
       "    .dataframe tbody tr th:only-of-type {\n",
       "        vertical-align: middle;\n",
       "    }\n",
       "\n",
       "    .dataframe tbody tr th {\n",
       "        vertical-align: top;\n",
       "    }\n",
       "\n",
       "    .dataframe thead th {\n",
       "        text-align: right;\n",
       "    }\n",
       "</style>\n",
       "<table border=\"1\" class=\"dataframe\">\n",
       "  <thead>\n",
       "    <tr style=\"text-align: right;\">\n",
       "      <th></th>\n",
       "      <th>code_zone_iso3</th>\n",
       "      <th>zone</th>\n",
       "      <th>alim_touristes</th>\n",
       "      <th>autres_utilisations</th>\n",
       "      <th>dispo_alim_kcal_pers_jour</th>\n",
       "      <th>dispo_alim_kg_pers_an</th>\n",
       "      <th>dispo_matiere_grasse_g_pers_jour</th>\n",
       "      <th>dispo_proteines_g_pers_jour</th>\n",
       "      <th>dispo_int</th>\n",
       "      <th>exportations</th>\n",
       "      <th>...</th>\n",
       "      <th>taux_croissance_pop</th>\n",
       "      <th>pib_M_usd</th>\n",
       "      <th>country_name</th>\n",
       "      <th>country_code</th>\n",
       "      <th>control_of_corruption</th>\n",
       "      <th>government_effectiveness</th>\n",
       "      <th>political_stability</th>\n",
       "      <th>regulatory_quality</th>\n",
       "      <th>rule_of_law</th>\n",
       "      <th>voice_and_accountability</th>\n",
       "    </tr>\n",
       "  </thead>\n",
       "  <tbody>\n",
       "    <tr>\n",
       "      <th>0</th>\n",
       "      <td>AFG</td>\n",
       "      <td>Afghanistan</td>\n",
       "      <td>NaN</td>\n",
       "      <td>NaN</td>\n",
       "      <td>6.0</td>\n",
       "      <td>1.76</td>\n",
       "      <td>0.38</td>\n",
       "      <td>0.63</td>\n",
       "      <td>64.0</td>\n",
       "      <td>NaN</td>\n",
       "      <td>...</td>\n",
       "      <td>3.243430</td>\n",
       "      <td>18896.352021</td>\n",
       "      <td>Afghanistan</td>\n",
       "      <td>AFG</td>\n",
       "      <td>-1.52172565460205</td>\n",
       "      <td>-1.35992228984833</td>\n",
       "      <td>-2.80108380317688</td>\n",
       "      <td>-1.35537278652191</td>\n",
       "      <td>-1.5775955915451</td>\n",
       "      <td>-0.990813970565796</td>\n",
       "    </tr>\n",
       "    <tr>\n",
       "      <th>1</th>\n",
       "      <td>AGO</td>\n",
       "      <td>Angola</td>\n",
       "      <td>NaN</td>\n",
       "      <td>NaN</td>\n",
       "      <td>36.0</td>\n",
       "      <td>10.65</td>\n",
       "      <td>2.24</td>\n",
       "      <td>3.63</td>\n",
       "      <td>318.0</td>\n",
       "      <td>0.0</td>\n",
       "      <td>...</td>\n",
       "      <td>3.747670</td>\n",
       "      <td>122123.858628</td>\n",
       "      <td>Angola</td>\n",
       "      <td>AGO</td>\n",
       "      <td>-1.42805349826813</td>\n",
       "      <td>-0.919977068901062</td>\n",
       "      <td>-0.380449026823044</td>\n",
       "      <td>-1.02622818946838</td>\n",
       "      <td>-1.02607727050781</td>\n",
       "      <td>-1.09807455539703</td>\n",
       "    </tr>\n",
       "    <tr>\n",
       "      <th>2</th>\n",
       "      <td>ALB</td>\n",
       "      <td>Albanie</td>\n",
       "      <td>NaN</td>\n",
       "      <td>NaN</td>\n",
       "      <td>59.0</td>\n",
       "      <td>11.45</td>\n",
       "      <td>4.46</td>\n",
       "      <td>4.44</td>\n",
       "      <td>33.0</td>\n",
       "      <td>0.0</td>\n",
       "      <td>...</td>\n",
       "      <td>-0.329875</td>\n",
       "      <td>13019.729856</td>\n",
       "      <td>Albania</td>\n",
       "      <td>ALB</td>\n",
       "      <td>-0.458256989717484</td>\n",
       "      <td>0.128729850053787</td>\n",
       "      <td>0.378474771976471</td>\n",
       "      <td>0.233086720108986</td>\n",
       "      <td>-0.395079284906387</td>\n",
       "      <td>0.203805893659592</td>\n",
       "    </tr>\n",
       "  </tbody>\n",
       "</table>\n",
       "<p>3 rows × 30 columns</p>\n",
       "</div>"
      ],
      "text/plain": [
       "  code_zone_iso3         zone  alim_touristes  autres_utilisations  \\\n",
       "0            AFG  Afghanistan             NaN                  NaN   \n",
       "1            AGO       Angola             NaN                  NaN   \n",
       "2            ALB      Albanie             NaN                  NaN   \n",
       "\n",
       "   dispo_alim_kcal_pers_jour  dispo_alim_kg_pers_an  \\\n",
       "0                        6.0                   1.76   \n",
       "1                       36.0                  10.65   \n",
       "2                       59.0                  11.45   \n",
       "\n",
       "   dispo_matiere_grasse_g_pers_jour  dispo_proteines_g_pers_jour  dispo_int  \\\n",
       "0                              0.38                         0.63       64.0   \n",
       "1                              2.24                         3.63      318.0   \n",
       "2                              4.46                         4.44       33.0   \n",
       "\n",
       "   exportations  ...  taux_croissance_pop      pib_M_usd  country_name  \\\n",
       "0           NaN  ...             3.243430   18896.352021   Afghanistan   \n",
       "1           0.0  ...             3.747670  122123.858628        Angola   \n",
       "2           0.0  ...            -0.329875   13019.729856       Albania   \n",
       "\n",
       "   country_code  control_of_corruption  government_effectiveness  \\\n",
       "0           AFG      -1.52172565460205         -1.35992228984833   \n",
       "1           AGO      -1.42805349826813        -0.919977068901062   \n",
       "2           ALB     -0.458256989717484         0.128729850053787   \n",
       "\n",
       "   political_stability  regulatory_quality         rule_of_law  \\\n",
       "0    -2.80108380317688   -1.35537278652191    -1.5775955915451   \n",
       "1   -0.380449026823044   -1.02622818946838   -1.02607727050781   \n",
       "2    0.378474771976471   0.233086720108986  -0.395079284906387   \n",
       "\n",
       "   voice_and_accountability  \n",
       "0        -0.990813970565796  \n",
       "1         -1.09807455539703  \n",
       "2         0.203805893659592  \n",
       "\n",
       "[3 rows x 30 columns]"
      ]
     },
     "execution_count": 77,
     "metadata": {},
     "output_type": "execute_result"
    }
   ],
   "source": [
    "data.head(3)"
   ]
  },
  {
   "cell_type": "code",
   "execution_count": 78,
   "id": "9ebc1973",
   "metadata": {},
   "outputs": [],
   "source": [
    "cols = ['control_of_corruption', 'government_effectiveness', 'political_stability', 'regulatory_quality',\n",
    "        'rule_of_law', 'voice_and_accountability']\n",
    "data[cols] = data[cols].astype(float)"
   ]
  },
  {
   "cell_type": "markdown",
   "id": "30e3178a-f49e-494e-b5fb-0ec1965cc59e",
   "metadata": {},
   "source": [
    "### Jointure entre les tables `data` et `country_coords`"
   ]
  },
  {
   "cell_type": "code",
   "execution_count": 79,
   "id": "e86c2bfb",
   "metadata": {},
   "outputs": [],
   "source": [
    "data = data.merge(\n",
    "    right=country_coords,\n",
    "    how='outer',\n",
    "    left_on='code_zone_iso3',\n",
    "    right_on='iso3',\n",
    "    indicator=True\n",
    ")"
   ]
  },
  {
   "cell_type": "code",
   "execution_count": 80,
   "id": "dba21c2c",
   "metadata": {},
   "outputs": [
    {
     "data": {
      "text/plain": [
       "both          178\n",
       "right_only     62\n",
       "left_only       2\n",
       "Name: _merge, dtype: int64"
      ]
     },
     "execution_count": 80,
     "metadata": {},
     "output_type": "execute_result"
    }
   ],
   "source": [
    "data['_merge'].value_counts()"
   ]
  },
  {
   "cell_type": "code",
   "execution_count": 81,
   "id": "f6761b78",
   "metadata": {},
   "outputs": [
    {
     "data": {
      "text/html": [
       "<div>\n",
       "<style scoped>\n",
       "    .dataframe tbody tr th:only-of-type {\n",
       "        vertical-align: middle;\n",
       "    }\n",
       "\n",
       "    .dataframe tbody tr th {\n",
       "        vertical-align: top;\n",
       "    }\n",
       "\n",
       "    .dataframe thead th {\n",
       "        text-align: right;\n",
       "    }\n",
       "</style>\n",
       "<table border=\"1\" class=\"dataframe\">\n",
       "  <thead>\n",
       "    <tr style=\"text-align: right;\">\n",
       "      <th></th>\n",
       "      <th>code_zone_iso3</th>\n",
       "      <th>zone</th>\n",
       "      <th>alim_touristes</th>\n",
       "      <th>autres_utilisations</th>\n",
       "      <th>dispo_alim_kcal_pers_jour</th>\n",
       "      <th>dispo_alim_kg_pers_an</th>\n",
       "      <th>dispo_matiere_grasse_g_pers_jour</th>\n",
       "      <th>dispo_proteines_g_pers_jour</th>\n",
       "      <th>dispo_int</th>\n",
       "      <th>exportations</th>\n",
       "      <th>...</th>\n",
       "      <th>regulatory_quality</th>\n",
       "      <th>rule_of_law</th>\n",
       "      <th>voice_and_accountability</th>\n",
       "      <th>iso2</th>\n",
       "      <th>iso3</th>\n",
       "      <th>name</th>\n",
       "      <th>latitude</th>\n",
       "      <th>longitude</th>\n",
       "      <th>distance_to_france</th>\n",
       "      <th>_merge</th>\n",
       "    </tr>\n",
       "  </thead>\n",
       "  <tbody>\n",
       "    <tr>\n",
       "      <th>51</th>\n",
       "      <td>F41</td>\n",
       "      <td>Chine, continentale</td>\n",
       "      <td>NaN</td>\n",
       "      <td>NaN</td>\n",
       "      <td>64.0</td>\n",
       "      <td>13.60</td>\n",
       "      <td>4.98</td>\n",
       "      <td>4.38</td>\n",
       "      <td>18992.0</td>\n",
       "      <td>576.0</td>\n",
       "      <td>...</td>\n",
       "      <td>NaN</td>\n",
       "      <td>NaN</td>\n",
       "      <td>NaN</td>\n",
       "      <td>NaN</td>\n",
       "      <td>NaN</td>\n",
       "      <td>NaN</td>\n",
       "      <td>NaN</td>\n",
       "      <td>NaN</td>\n",
       "      <td>NaN</td>\n",
       "      <td>left_only</td>\n",
       "    </tr>\n",
       "    <tr>\n",
       "      <th>117</th>\n",
       "      <td>NAM</td>\n",
       "      <td>Namibie</td>\n",
       "      <td>NaN</td>\n",
       "      <td>NaN</td>\n",
       "      <td>39.0</td>\n",
       "      <td>11.36</td>\n",
       "      <td>2.35</td>\n",
       "      <td>4.18</td>\n",
       "      <td>27.0</td>\n",
       "      <td>12.0</td>\n",
       "      <td>...</td>\n",
       "      <td>-0.103186</td>\n",
       "      <td>0.298591</td>\n",
       "      <td>0.550321</td>\n",
       "      <td>NaN</td>\n",
       "      <td>NaN</td>\n",
       "      <td>NaN</td>\n",
       "      <td>NaN</td>\n",
       "      <td>NaN</td>\n",
       "      <td>NaN</td>\n",
       "      <td>left_only</td>\n",
       "    </tr>\n",
       "  </tbody>\n",
       "</table>\n",
       "<p>2 rows × 37 columns</p>\n",
       "</div>"
      ],
      "text/plain": [
       "    code_zone_iso3                 zone  alim_touristes  autres_utilisations  \\\n",
       "51             F41  Chine, continentale             NaN                  NaN   \n",
       "117            NAM              Namibie             NaN                  NaN   \n",
       "\n",
       "     dispo_alim_kcal_pers_jour  dispo_alim_kg_pers_an  \\\n",
       "51                        64.0                  13.60   \n",
       "117                       39.0                  11.36   \n",
       "\n",
       "     dispo_matiere_grasse_g_pers_jour  dispo_proteines_g_pers_jour  dispo_int  \\\n",
       "51                               4.98                         4.38    18992.0   \n",
       "117                              2.35                         4.18       27.0   \n",
       "\n",
       "     exportations  ...  regulatory_quality  rule_of_law  \\\n",
       "51          576.0  ...                 NaN          NaN   \n",
       "117          12.0  ...           -0.103186     0.298591   \n",
       "\n",
       "     voice_and_accountability  iso2  iso3  name  latitude  longitude  \\\n",
       "51                        NaN   NaN   NaN   NaN       NaN        NaN   \n",
       "117                  0.550321   NaN   NaN   NaN       NaN        NaN   \n",
       "\n",
       "     distance_to_france     _merge  \n",
       "51                  NaN  left_only  \n",
       "117                 NaN  left_only  \n",
       "\n",
       "[2 rows x 37 columns]"
      ]
     },
     "execution_count": 81,
     "metadata": {},
     "output_type": "execute_result"
    }
   ],
   "source": [
    "data.loc[data['_merge'] == 'left_only']"
   ]
  },
  {
   "cell_type": "markdown",
   "id": "342fc092-10b7-421c-ade3-a48969d410d4",
   "metadata": {},
   "source": [
    "Il nous manque les coordonnées géographiques de la Chine continentale et de la Namibie."
   ]
  },
  {
   "cell_type": "code",
   "execution_count": 82,
   "id": "d6fe2f51",
   "metadata": {},
   "outputs": [],
   "source": [
    "data = data.loc[~(data['_merge'] == 'right_only')].drop(['iso2', 'iso3', 'name', '_merge'], axis=1)"
   ]
  },
  {
   "cell_type": "markdown",
   "id": "ad66e527-1289-437d-b125-7f2f730e76c3",
   "metadata": {},
   "source": [
    "### Résultat des jointures"
   ]
  },
  {
   "cell_type": "code",
   "execution_count": 83,
   "id": "be4e0232",
   "metadata": {},
   "outputs": [
    {
     "data": {
      "text/html": [
       "<div>\n",
       "<style scoped>\n",
       "    .dataframe tbody tr th:only-of-type {\n",
       "        vertical-align: middle;\n",
       "    }\n",
       "\n",
       "    .dataframe tbody tr th {\n",
       "        vertical-align: top;\n",
       "    }\n",
       "\n",
       "    .dataframe thead th {\n",
       "        text-align: right;\n",
       "    }\n",
       "</style>\n",
       "<table border=\"1\" class=\"dataframe\">\n",
       "  <thead>\n",
       "    <tr style=\"text-align: right;\">\n",
       "      <th></th>\n",
       "      <th>code_zone_iso3</th>\n",
       "      <th>zone</th>\n",
       "      <th>alim_touristes</th>\n",
       "      <th>autres_utilisations</th>\n",
       "      <th>dispo_alim_kcal_pers_jour</th>\n",
       "      <th>dispo_alim_kg_pers_an</th>\n",
       "      <th>dispo_matiere_grasse_g_pers_jour</th>\n",
       "      <th>dispo_proteines_g_pers_jour</th>\n",
       "      <th>dispo_int</th>\n",
       "      <th>exportations</th>\n",
       "      <th>...</th>\n",
       "      <th>country_code</th>\n",
       "      <th>control_of_corruption</th>\n",
       "      <th>government_effectiveness</th>\n",
       "      <th>political_stability</th>\n",
       "      <th>regulatory_quality</th>\n",
       "      <th>rule_of_law</th>\n",
       "      <th>voice_and_accountability</th>\n",
       "      <th>latitude</th>\n",
       "      <th>longitude</th>\n",
       "      <th>distance_to_france</th>\n",
       "    </tr>\n",
       "  </thead>\n",
       "  <tbody>\n",
       "    <tr>\n",
       "      <th>0</th>\n",
       "      <td>AFG</td>\n",
       "      <td>Afghanistan</td>\n",
       "      <td>NaN</td>\n",
       "      <td>NaN</td>\n",
       "      <td>6.0</td>\n",
       "      <td>1.76</td>\n",
       "      <td>0.38</td>\n",
       "      <td>0.63</td>\n",
       "      <td>64.0</td>\n",
       "      <td>NaN</td>\n",
       "      <td>...</td>\n",
       "      <td>AFG</td>\n",
       "      <td>-1.521726</td>\n",
       "      <td>-1.359922</td>\n",
       "      <td>-2.801084</td>\n",
       "      <td>-1.355373</td>\n",
       "      <td>-1.577596</td>\n",
       "      <td>-0.990814</td>\n",
       "      <td>33.939110</td>\n",
       "      <td>67.709953</td>\n",
       "      <td>5585.579825</td>\n",
       "    </tr>\n",
       "    <tr>\n",
       "      <th>1</th>\n",
       "      <td>AGO</td>\n",
       "      <td>Angola</td>\n",
       "      <td>NaN</td>\n",
       "      <td>NaN</td>\n",
       "      <td>36.0</td>\n",
       "      <td>10.65</td>\n",
       "      <td>2.24</td>\n",
       "      <td>3.63</td>\n",
       "      <td>318.0</td>\n",
       "      <td>0.0</td>\n",
       "      <td>...</td>\n",
       "      <td>AGO</td>\n",
       "      <td>-1.428053</td>\n",
       "      <td>-0.919977</td>\n",
       "      <td>-0.380449</td>\n",
       "      <td>-1.026228</td>\n",
       "      <td>-1.026077</td>\n",
       "      <td>-1.098075</td>\n",
       "      <td>-11.202692</td>\n",
       "      <td>17.873887</td>\n",
       "      <td>6550.284834</td>\n",
       "    </tr>\n",
       "    <tr>\n",
       "      <th>2</th>\n",
       "      <td>ALB</td>\n",
       "      <td>Albanie</td>\n",
       "      <td>NaN</td>\n",
       "      <td>NaN</td>\n",
       "      <td>59.0</td>\n",
       "      <td>11.45</td>\n",
       "      <td>4.46</td>\n",
       "      <td>4.44</td>\n",
       "      <td>33.0</td>\n",
       "      <td>0.0</td>\n",
       "      <td>...</td>\n",
       "      <td>ALB</td>\n",
       "      <td>-0.458257</td>\n",
       "      <td>0.128730</td>\n",
       "      <td>0.378475</td>\n",
       "      <td>0.233087</td>\n",
       "      <td>-0.395079</td>\n",
       "      <td>0.203806</td>\n",
       "      <td>41.153332</td>\n",
       "      <td>20.168331</td>\n",
       "      <td>1549.151949</td>\n",
       "    </tr>\n",
       "    <tr>\n",
       "      <th>3</th>\n",
       "      <td>ARE</td>\n",
       "      <td>Émirats arabes unis</td>\n",
       "      <td>245.0</td>\n",
       "      <td>NaN</td>\n",
       "      <td>88.0</td>\n",
       "      <td>25.97</td>\n",
       "      <td>5.57</td>\n",
       "      <td>8.92</td>\n",
       "      <td>492.0</td>\n",
       "      <td>31.0</td>\n",
       "      <td>...</td>\n",
       "      <td>ARE</td>\n",
       "      <td>1.129224</td>\n",
       "      <td>1.410762</td>\n",
       "      <td>0.618641</td>\n",
       "      <td>1.010814</td>\n",
       "      <td>0.792878</td>\n",
       "      <td>-1.096805</td>\n",
       "      <td>23.424076</td>\n",
       "      <td>53.847818</td>\n",
       "      <td>5240.398413</td>\n",
       "    </tr>\n",
       "    <tr>\n",
       "      <th>4</th>\n",
       "      <td>ARG</td>\n",
       "      <td>Argentine</td>\n",
       "      <td>NaN</td>\n",
       "      <td>NaN</td>\n",
       "      <td>192.0</td>\n",
       "      <td>44.66</td>\n",
       "      <td>14.64</td>\n",
       "      <td>14.31</td>\n",
       "      <td>1962.0</td>\n",
       "      <td>207.0</td>\n",
       "      <td>...</td>\n",
       "      <td>ARG</td>\n",
       "      <td>-0.284517</td>\n",
       "      <td>0.164413</td>\n",
       "      <td>0.169504</td>\n",
       "      <td>-0.181595</td>\n",
       "      <td>-0.219417</td>\n",
       "      <td>0.528664</td>\n",
       "      <td>-38.416097</td>\n",
       "      <td>-63.616672</td>\n",
       "      <td>11440.718227</td>\n",
       "    </tr>\n",
       "  </tbody>\n",
       "</table>\n",
       "<p>5 rows × 33 columns</p>\n",
       "</div>"
      ],
      "text/plain": [
       "  code_zone_iso3                 zone  alim_touristes  autres_utilisations  \\\n",
       "0            AFG          Afghanistan             NaN                  NaN   \n",
       "1            AGO               Angola             NaN                  NaN   \n",
       "2            ALB              Albanie             NaN                  NaN   \n",
       "3            ARE  Émirats arabes unis           245.0                  NaN   \n",
       "4            ARG            Argentine             NaN                  NaN   \n",
       "\n",
       "   dispo_alim_kcal_pers_jour  dispo_alim_kg_pers_an  \\\n",
       "0                        6.0                   1.76   \n",
       "1                       36.0                  10.65   \n",
       "2                       59.0                  11.45   \n",
       "3                       88.0                  25.97   \n",
       "4                      192.0                  44.66   \n",
       "\n",
       "   dispo_matiere_grasse_g_pers_jour  dispo_proteines_g_pers_jour  dispo_int  \\\n",
       "0                              0.38                         0.63       64.0   \n",
       "1                              2.24                         3.63      318.0   \n",
       "2                              4.46                         4.44       33.0   \n",
       "3                              5.57                         8.92      492.0   \n",
       "4                             14.64                        14.31     1962.0   \n",
       "\n",
       "   exportations  ...  country_code  control_of_corruption  \\\n",
       "0           NaN  ...           AFG              -1.521726   \n",
       "1           0.0  ...           AGO              -1.428053   \n",
       "2           0.0  ...           ALB              -0.458257   \n",
       "3          31.0  ...           ARE               1.129224   \n",
       "4         207.0  ...           ARG              -0.284517   \n",
       "\n",
       "   government_effectiveness  political_stability  regulatory_quality  \\\n",
       "0                 -1.359922            -2.801084           -1.355373   \n",
       "1                 -0.919977            -0.380449           -1.026228   \n",
       "2                  0.128730             0.378475            0.233087   \n",
       "3                  1.410762             0.618641            1.010814   \n",
       "4                  0.164413             0.169504           -0.181595   \n",
       "\n",
       "   rule_of_law  voice_and_accountability   latitude  longitude  \\\n",
       "0    -1.577596                 -0.990814  33.939110  67.709953   \n",
       "1    -1.026077                 -1.098075 -11.202692  17.873887   \n",
       "2    -0.395079                  0.203806  41.153332  20.168331   \n",
       "3     0.792878                 -1.096805  23.424076  53.847818   \n",
       "4    -0.219417                  0.528664 -38.416097 -63.616672   \n",
       "\n",
       "   distance_to_france  \n",
       "0         5585.579825  \n",
       "1         6550.284834  \n",
       "2         1549.151949  \n",
       "3         5240.398413  \n",
       "4        11440.718227  \n",
       "\n",
       "[5 rows x 33 columns]"
      ]
     },
     "execution_count": 83,
     "metadata": {},
     "output_type": "execute_result"
    }
   ],
   "source": [
    "data.head()"
   ]
  },
  {
   "cell_type": "markdown",
   "id": "08432566",
   "metadata": {},
   "source": [
    "## Imputation des données"
   ]
  },
  {
   "cell_type": "code",
   "execution_count": 84,
   "id": "5003b822",
   "metadata": {},
   "outputs": [
    {
     "data": {
      "text/plain": [
       "code_zone_iso3                      0.000000\n",
       "zone                                0.000000\n",
       "alim_touristes                      0.766667\n",
       "autres_utilisations                 0.816667\n",
       "dispo_alim_kcal_pers_jour           0.000000\n",
       "dispo_alim_kg_pers_an               0.000000\n",
       "dispo_matiere_grasse_g_pers_jour    0.000000\n",
       "dispo_proteines_g_pers_jour         0.000000\n",
       "dispo_int                           0.000000\n",
       "exportations                        0.211111\n",
       "importations                        0.005556\n",
       "nourriture                          0.000000\n",
       "pertes                              0.811111\n",
       "production                          0.011111\n",
       "residus                             0.000000\n",
       "traitement                          0.816667\n",
       "variation_de_stock                  0.000000\n",
       "dispo_alim_vol_pct                  0.000000\n",
       "import_tot_pct                      0.000000\n",
       "population_m                        0.000000\n",
       "taux_croissance_pop                 0.005556\n",
       "pib_M_usd                           0.005556\n",
       "country_name                        0.016667\n",
       "country_code                        0.016667\n",
       "control_of_corruption               0.016667\n",
       "government_effectiveness            0.016667\n",
       "political_stability                 0.016667\n",
       "regulatory_quality                  0.016667\n",
       "rule_of_law                         0.016667\n",
       "voice_and_accountability            0.016667\n",
       "latitude                            0.011111\n",
       "longitude                           0.011111\n",
       "distance_to_france                  0.011111\n",
       "dtype: float64"
      ]
     },
     "execution_count": 84,
     "metadata": {},
     "output_type": "execute_result"
    }
   ],
   "source": [
    "data.isna().mean()"
   ]
  },
  {
   "cell_type": "markdown",
   "id": "296e6761",
   "metadata": {},
   "source": [
    "### Valeurs de production et exportations manquantes"
   ]
  },
  {
   "cell_type": "markdown",
   "id": "4baa82ab",
   "metadata": {},
   "source": [
    "L'une des équations reliant la disponibilité intérieure aux autres variables est la suivante :\n",
    "\n",
    "`dispo_int` = `production` + `importations` - `exportations` + `variation_de_stock`\n",
    "\n",
    "On peut ainsi retrouver la valeur de l'une de ces variables à partir de celle des autres lorsqu'elle est manquante."
   ]
  },
  {
   "cell_type": "code",
   "execution_count": 85,
   "id": "c9c4a163-d219-4f3c-a0c8-13864aea0fcc",
   "metadata": {},
   "outputs": [
    {
     "data": {
      "text/plain": [
       "0    141\n",
       "1     37\n",
       "2      2\n",
       "dtype: int64"
      ]
     },
     "execution_count": 85,
     "metadata": {},
     "output_type": "execute_result"
    }
   ],
   "source": [
    "cols = ['dispo_int', 'production', 'importations', 'exportations', 'variation_de_stock']\n",
    "data[cols].isna().sum(axis=1).value_counts()"
   ]
  },
  {
   "cell_type": "code",
   "execution_count": 86,
   "id": "43e993ce",
   "metadata": {},
   "outputs": [
    {
     "data": {
      "text/html": [
       "<div>\n",
       "<style scoped>\n",
       "    .dataframe tbody tr th:only-of-type {\n",
       "        vertical-align: middle;\n",
       "    }\n",
       "\n",
       "    .dataframe tbody tr th {\n",
       "        vertical-align: top;\n",
       "    }\n",
       "\n",
       "    .dataframe thead th {\n",
       "        text-align: right;\n",
       "    }\n",
       "</style>\n",
       "<table border=\"1\" class=\"dataframe\">\n",
       "  <thead>\n",
       "    <tr style=\"text-align: right;\">\n",
       "      <th></th>\n",
       "      <th>zone</th>\n",
       "      <th>dispo_int</th>\n",
       "      <th>production</th>\n",
       "      <th>importations</th>\n",
       "      <th>exportations</th>\n",
       "      <th>variation_de_stock</th>\n",
       "    </tr>\n",
       "  </thead>\n",
       "  <tbody>\n",
       "    <tr>\n",
       "      <th>41</th>\n",
       "      <td>Djibouti</td>\n",
       "      <td>3.0</td>\n",
       "      <td>NaN</td>\n",
       "      <td>3.0</td>\n",
       "      <td>NaN</td>\n",
       "      <td>0.0</td>\n",
       "    </tr>\n",
       "    <tr>\n",
       "      <th>104</th>\n",
       "      <td>Maldives</td>\n",
       "      <td>11.0</td>\n",
       "      <td>NaN</td>\n",
       "      <td>12.0</td>\n",
       "      <td>NaN</td>\n",
       "      <td>1.0</td>\n",
       "    </tr>\n",
       "  </tbody>\n",
       "</table>\n",
       "</div>"
      ],
      "text/plain": [
       "         zone  dispo_int  production  importations  exportations  \\\n",
       "41   Djibouti        3.0         NaN           3.0           NaN   \n",
       "104  Maldives       11.0         NaN          12.0           NaN   \n",
       "\n",
       "     variation_de_stock  \n",
       "41                  0.0  \n",
       "104                 1.0  "
      ]
     },
     "execution_count": 86,
     "metadata": {},
     "output_type": "execute_result"
    }
   ],
   "source": [
    "# pays avec plus d'une valeur manquante\n",
    "mask = data[cols].isna().sum(axis=1) > 1\n",
    "data.loc[mask, ['zone'] + cols]"
   ]
  },
  {
   "cell_type": "code",
   "execution_count": 87,
   "id": "fed5cfcd",
   "metadata": {},
   "outputs": [],
   "source": [
    "data.loc[mask, ['production', 'exportations', ]] = 0"
   ]
  },
  {
   "cell_type": "markdown",
   "id": "54d401f5-6c1e-4d3b-9fc4-9c398c715d9b",
   "metadata": {},
   "source": [
    "### Valeur des exportations manquante"
   ]
  },
  {
   "cell_type": "code",
   "execution_count": 88,
   "id": "1228d6df",
   "metadata": {},
   "outputs": [
    {
     "data": {
      "text/plain": [
       "zone                   0\n",
       "dispo_int              0\n",
       "production             0\n",
       "importations           1\n",
       "exportations          36\n",
       "variation_de_stock     0\n",
       "dtype: int64"
      ]
     },
     "execution_count": 88,
     "metadata": {},
     "output_type": "execute_result"
    }
   ],
   "source": [
    "# pays avec une seule valeur manquante\n",
    "mask = data[cols].isna().sum(axis=1) == 1\n",
    "data.loc[mask, ['zone'] + cols].isna().sum()"
   ]
  },
  {
   "cell_type": "code",
   "execution_count": 89,
   "id": "4f6e621c",
   "metadata": {},
   "outputs": [],
   "source": [
    "# pays dont la valeur des exportations est manquante\n",
    "mask = data['exportations'].isna()\n",
    "missing_export = data.loc[mask, ['zone'] + cols].copy()"
   ]
  },
  {
   "cell_type": "code",
   "execution_count": 90,
   "id": "800a00f1",
   "metadata": {},
   "outputs": [
    {
     "data": {
      "text/html": [
       "<div>\n",
       "<style scoped>\n",
       "    .dataframe tbody tr th:only-of-type {\n",
       "        vertical-align: middle;\n",
       "    }\n",
       "\n",
       "    .dataframe tbody tr th {\n",
       "        vertical-align: top;\n",
       "    }\n",
       "\n",
       "    .dataframe thead th {\n",
       "        text-align: right;\n",
       "    }\n",
       "</style>\n",
       "<table border=\"1\" class=\"dataframe\">\n",
       "  <thead>\n",
       "    <tr style=\"text-align: right;\">\n",
       "      <th></th>\n",
       "      <th>zone</th>\n",
       "      <th>dispo_int</th>\n",
       "      <th>production</th>\n",
       "      <th>importations</th>\n",
       "      <th>exportations</th>\n",
       "      <th>variation_de_stock</th>\n",
       "    </tr>\n",
       "  </thead>\n",
       "  <tbody>\n",
       "    <tr>\n",
       "      <th>0</th>\n",
       "      <td>Afghanistan</td>\n",
       "      <td>64.0</td>\n",
       "      <td>28.0</td>\n",
       "      <td>29.0</td>\n",
       "      <td>NaN</td>\n",
       "      <td>-7.0</td>\n",
       "    </tr>\n",
       "    <tr>\n",
       "      <th>10</th>\n",
       "      <td>Burundi</td>\n",
       "      <td>5.0</td>\n",
       "      <td>6.0</td>\n",
       "      <td>0.0</td>\n",
       "      <td>NaN</td>\n",
       "      <td>1.0</td>\n",
       "    </tr>\n",
       "    <tr>\n",
       "      <th>13</th>\n",
       "      <td>Burkina Faso</td>\n",
       "      <td>42.0</td>\n",
       "      <td>42.0</td>\n",
       "      <td>0.0</td>\n",
       "      <td>NaN</td>\n",
       "      <td>0.0</td>\n",
       "    </tr>\n",
       "  </tbody>\n",
       "</table>\n",
       "</div>"
      ],
      "text/plain": [
       "            zone  dispo_int  production  importations  exportations  \\\n",
       "0    Afghanistan       64.0        28.0          29.0           NaN   \n",
       "10       Burundi        5.0         6.0           0.0           NaN   \n",
       "13  Burkina Faso       42.0        42.0           0.0           NaN   \n",
       "\n",
       "    variation_de_stock  \n",
       "0                 -7.0  \n",
       "10                 1.0  \n",
       "13                 0.0  "
      ]
     },
     "execution_count": 90,
     "metadata": {},
     "output_type": "execute_result"
    }
   ],
   "source": [
    "missing_export.head(3)"
   ]
  },
  {
   "cell_type": "code",
   "execution_count": 91,
   "id": "79f6a7de",
   "metadata": {},
   "outputs": [],
   "source": [
    "missing_export['exportations'] = (\n",
    "    missing_export[['production', 'importations', 'variation_de_stock']].sum(axis=1)\n",
    "    - missing_export['dispo_int']\n",
    ")\n",
    "\n",
    "# on remplace les valeurs négatives par 0\n",
    "missing_export['exportations'] = missing_export['exportations'].apply(lambda x: max(0, x))"
   ]
  },
  {
   "cell_type": "code",
   "execution_count": 92,
   "id": "3782141d",
   "metadata": {},
   "outputs": [],
   "source": [
    "data.loc[mask, 'exportations'] = missing_export['exportations']"
   ]
  },
  {
   "cell_type": "markdown",
   "id": "23157a28",
   "metadata": {},
   "source": [
    "### Valeur des importations manquante"
   ]
  },
  {
   "cell_type": "code",
   "execution_count": 93,
   "id": "5b93218c",
   "metadata": {},
   "outputs": [
    {
     "data": {
      "text/html": [
       "<div>\n",
       "<style scoped>\n",
       "    .dataframe tbody tr th:only-of-type {\n",
       "        vertical-align: middle;\n",
       "    }\n",
       "\n",
       "    .dataframe tbody tr th {\n",
       "        vertical-align: top;\n",
       "    }\n",
       "\n",
       "    .dataframe thead th {\n",
       "        text-align: right;\n",
       "    }\n",
       "</style>\n",
       "<table border=\"1\" class=\"dataframe\">\n",
       "  <thead>\n",
       "    <tr style=\"text-align: right;\">\n",
       "      <th></th>\n",
       "      <th>zone</th>\n",
       "      <th>dispo_int</th>\n",
       "      <th>production</th>\n",
       "      <th>importations</th>\n",
       "      <th>exportations</th>\n",
       "      <th>variation_de_stock</th>\n",
       "    </tr>\n",
       "  </thead>\n",
       "  <tbody>\n",
       "    <tr>\n",
       "      <th>133</th>\n",
       "      <td>République populaire démocratique de Corée</td>\n",
       "      <td>43.0</td>\n",
       "      <td>43.0</td>\n",
       "      <td>NaN</td>\n",
       "      <td>0.0</td>\n",
       "      <td>0.0</td>\n",
       "    </tr>\n",
       "  </tbody>\n",
       "</table>\n",
       "</div>"
      ],
      "text/plain": [
       "                                           zone  dispo_int  production  \\\n",
       "133  République populaire démocratique de Corée       43.0        43.0   \n",
       "\n",
       "     importations  exportations  variation_de_stock  \n",
       "133           NaN           0.0                 0.0  "
      ]
     },
     "execution_count": 93,
     "metadata": {},
     "output_type": "execute_result"
    }
   ],
   "source": [
    "mask = data['importations'].isna()\n",
    "data.loc[mask, ['zone'] + cols]"
   ]
  },
  {
   "cell_type": "code",
   "execution_count": 94,
   "id": "084b4ee6",
   "metadata": {},
   "outputs": [],
   "source": [
    "data.loc[mask, 'importations'] = 0"
   ]
  },
  {
   "cell_type": "code",
   "execution_count": 95,
   "id": "be1d1213",
   "metadata": {},
   "outputs": [
    {
     "data": {
      "text/html": [
       "<div>\n",
       "<style scoped>\n",
       "    .dataframe tbody tr th:only-of-type {\n",
       "        vertical-align: middle;\n",
       "    }\n",
       "\n",
       "    .dataframe tbody tr th {\n",
       "        vertical-align: top;\n",
       "    }\n",
       "\n",
       "    .dataframe thead th {\n",
       "        text-align: right;\n",
       "    }\n",
       "</style>\n",
       "<table border=\"1\" class=\"dataframe\">\n",
       "  <thead>\n",
       "    <tr style=\"text-align: right;\">\n",
       "      <th></th>\n",
       "      <th>zone</th>\n",
       "      <th>dispo_int</th>\n",
       "      <th>production</th>\n",
       "      <th>importations</th>\n",
       "      <th>exportations</th>\n",
       "      <th>variation_de_stock</th>\n",
       "    </tr>\n",
       "  </thead>\n",
       "  <tbody>\n",
       "    <tr>\n",
       "      <th>133</th>\n",
       "      <td>République populaire démocratique de Corée</td>\n",
       "      <td>43.0</td>\n",
       "      <td>43.0</td>\n",
       "      <td>0.0</td>\n",
       "      <td>0.0</td>\n",
       "      <td>0.0</td>\n",
       "    </tr>\n",
       "  </tbody>\n",
       "</table>\n",
       "</div>"
      ],
      "text/plain": [
       "                                           zone  dispo_int  production  \\\n",
       "133  République populaire démocratique de Corée       43.0        43.0   \n",
       "\n",
       "     importations  exportations  variation_de_stock  \n",
       "133           0.0           0.0                 0.0  "
      ]
     },
     "execution_count": 95,
     "metadata": {},
     "output_type": "execute_result"
    }
   ],
   "source": [
    "data.loc[mask, ['zone'] + cols]"
   ]
  },
  {
   "cell_type": "markdown",
   "id": "49c91102",
   "metadata": {},
   "source": [
    "### Taux de croissance annuel composé de la population"
   ]
  },
  {
   "cell_type": "code",
   "execution_count": 96,
   "id": "0c0a445b",
   "metadata": {},
   "outputs": [
    {
     "data": {
      "text/html": [
       "<div>\n",
       "<style scoped>\n",
       "    .dataframe tbody tr th:only-of-type {\n",
       "        vertical-align: middle;\n",
       "    }\n",
       "\n",
       "    .dataframe tbody tr th {\n",
       "        vertical-align: top;\n",
       "    }\n",
       "\n",
       "    .dataframe thead th {\n",
       "        text-align: right;\n",
       "    }\n",
       "</style>\n",
       "<table border=\"1\" class=\"dataframe\">\n",
       "  <thead>\n",
       "    <tr style=\"text-align: right;\">\n",
       "      <th></th>\n",
       "      <th>code_zone_iso3</th>\n",
       "      <th>zone</th>\n",
       "      <th>alim_touristes</th>\n",
       "      <th>autres_utilisations</th>\n",
       "      <th>dispo_alim_kcal_pers_jour</th>\n",
       "      <th>dispo_alim_kg_pers_an</th>\n",
       "      <th>dispo_matiere_grasse_g_pers_jour</th>\n",
       "      <th>dispo_proteines_g_pers_jour</th>\n",
       "      <th>dispo_int</th>\n",
       "      <th>exportations</th>\n",
       "      <th>...</th>\n",
       "      <th>country_code</th>\n",
       "      <th>control_of_corruption</th>\n",
       "      <th>government_effectiveness</th>\n",
       "      <th>political_stability</th>\n",
       "      <th>regulatory_quality</th>\n",
       "      <th>rule_of_law</th>\n",
       "      <th>voice_and_accountability</th>\n",
       "      <th>latitude</th>\n",
       "      <th>longitude</th>\n",
       "      <th>distance_to_france</th>\n",
       "    </tr>\n",
       "  </thead>\n",
       "  <tbody>\n",
       "    <tr>\n",
       "      <th>141</th>\n",
       "      <td>SDN</td>\n",
       "      <td>Soudan</td>\n",
       "      <td>NaN</td>\n",
       "      <td>NaN</td>\n",
       "      <td>5.0</td>\n",
       "      <td>1.35</td>\n",
       "      <td>0.28</td>\n",
       "      <td>0.46</td>\n",
       "      <td>55.0</td>\n",
       "      <td>0.0</td>\n",
       "      <td>...</td>\n",
       "      <td>SDN</td>\n",
       "      <td>-1.545202</td>\n",
       "      <td>-1.451912</td>\n",
       "      <td>-1.97747</td>\n",
       "      <td>-1.56603</td>\n",
       "      <td>-1.112071</td>\n",
       "      <td>-1.839117</td>\n",
       "      <td>12.862807</td>\n",
       "      <td>30.217636</td>\n",
       "      <td>4538.152831</td>\n",
       "    </tr>\n",
       "  </tbody>\n",
       "</table>\n",
       "<p>1 rows × 33 columns</p>\n",
       "</div>"
      ],
      "text/plain": [
       "    code_zone_iso3    zone  alim_touristes  autres_utilisations  \\\n",
       "141            SDN  Soudan             NaN                  NaN   \n",
       "\n",
       "     dispo_alim_kcal_pers_jour  dispo_alim_kg_pers_an  \\\n",
       "141                        5.0                   1.35   \n",
       "\n",
       "     dispo_matiere_grasse_g_pers_jour  dispo_proteines_g_pers_jour  dispo_int  \\\n",
       "141                              0.28                         0.46       55.0   \n",
       "\n",
       "     exportations  ...  country_code  control_of_corruption  \\\n",
       "141           0.0  ...           SDN              -1.545202   \n",
       "\n",
       "     government_effectiveness  political_stability  regulatory_quality  \\\n",
       "141                 -1.451912             -1.97747            -1.56603   \n",
       "\n",
       "     rule_of_law  voice_and_accountability   latitude  longitude  \\\n",
       "141    -1.112071                 -1.839117  12.862807  30.217636   \n",
       "\n",
       "     distance_to_france  \n",
       "141         4538.152831  \n",
       "\n",
       "[1 rows x 33 columns]"
      ]
     },
     "execution_count": 96,
     "metadata": {},
     "output_type": "execute_result"
    }
   ],
   "source": [
    "mask = data['taux_croissance_pop'].isna()\n",
    "\n",
    "data.loc[mask, :]"
   ]
  },
  {
   "cell_type": "code",
   "execution_count": 97,
   "id": "27a24501",
   "metadata": {},
   "outputs": [
    {
     "data": {
      "text/plain": [
       "array([2012, 2013, 2014, 2015, 2016, 2017], dtype=int64)"
      ]
     },
     "execution_count": 97,
     "metadata": {},
     "output_type": "execute_result"
    }
   ],
   "source": [
    "mask = pop_2007_to_2017['code_zone_iso3'] == 'SDN'\n",
    "\n",
    "pop_2007_to_2017.loc[mask, 'annee'].unique()"
   ]
  },
  {
   "cell_type": "markdown",
   "id": "645d9b32",
   "metadata": {},
   "source": [
    "On peut calculer le taux de croissance sur la période de 2012 à 2017."
   ]
  },
  {
   "cell_type": "code",
   "execution_count": 98,
   "id": "cf972655",
   "metadata": {},
   "outputs": [],
   "source": [
    "mask = pop_2007_to_2017['code_zone_iso3'] == 'SDN'\n",
    "mask_2012 = mask & (pop_2007_to_2017['annee'] == 2012)\n",
    "mask_2017 = mask & (pop_2007_to_2017['annee'] == 2017)\n",
    "\n",
    "pop_soudan_2012 = pop_2007_to_2017.loc[mask_2012, 'valeur'].values\n",
    "pop_soudan_2017 = pop_2007_to_2017.loc[mask_2017, 'valeur'].values"
   ]
  },
  {
   "cell_type": "code",
   "execution_count": 99,
   "id": "7df42aa1",
   "metadata": {},
   "outputs": [],
   "source": [
    "taux_croissance_pop_soudan = (\n",
    "    (pop_soudan_2017 / pop_soudan_2012)**(1 / (2017 - 2012)) - 1\n",
    ") * 100"
   ]
  },
  {
   "cell_type": "code",
   "execution_count": 100,
   "id": "8fb477a8",
   "metadata": {},
   "outputs": [],
   "source": [
    "mask = data['code_zone_iso3'] == 'SDN'\n",
    "data.loc[mask, 'taux_croissance_pop'] = taux_croissance_pop_soudan"
   ]
  },
  {
   "cell_type": "code",
   "execution_count": 101,
   "id": "8cac3306",
   "metadata": {},
   "outputs": [
    {
     "data": {
      "text/html": [
       "<div>\n",
       "<style scoped>\n",
       "    .dataframe tbody tr th:only-of-type {\n",
       "        vertical-align: middle;\n",
       "    }\n",
       "\n",
       "    .dataframe tbody tr th {\n",
       "        vertical-align: top;\n",
       "    }\n",
       "\n",
       "    .dataframe thead th {\n",
       "        text-align: right;\n",
       "    }\n",
       "</style>\n",
       "<table border=\"1\" class=\"dataframe\">\n",
       "  <thead>\n",
       "    <tr style=\"text-align: right;\">\n",
       "      <th></th>\n",
       "      <th>code_zone_iso3</th>\n",
       "      <th>taux_croissance_pop</th>\n",
       "    </tr>\n",
       "  </thead>\n",
       "  <tbody>\n",
       "    <tr>\n",
       "      <th>141</th>\n",
       "      <td>SDN</td>\n",
       "      <td>2.959533</td>\n",
       "    </tr>\n",
       "  </tbody>\n",
       "</table>\n",
       "</div>"
      ],
      "text/plain": [
       "    code_zone_iso3  taux_croissance_pop\n",
       "141            SDN             2.959533"
      ]
     },
     "execution_count": 101,
     "metadata": {},
     "output_type": "execute_result"
    }
   ],
   "source": [
    "data.loc[mask, ['code_zone_iso3', 'taux_croissance_pop']]"
   ]
  },
  {
   "cell_type": "markdown",
   "id": "134bdb4f",
   "metadata": {},
   "source": [
    "### PIB"
   ]
  },
  {
   "cell_type": "code",
   "execution_count": 102,
   "id": "176f08b9",
   "metadata": {},
   "outputs": [
    {
     "data": {
      "text/html": [
       "<div>\n",
       "<style scoped>\n",
       "    .dataframe tbody tr th:only-of-type {\n",
       "        vertical-align: middle;\n",
       "    }\n",
       "\n",
       "    .dataframe tbody tr th {\n",
       "        vertical-align: top;\n",
       "    }\n",
       "\n",
       "    .dataframe thead th {\n",
       "        text-align: right;\n",
       "    }\n",
       "</style>\n",
       "<table border=\"1\" class=\"dataframe\">\n",
       "  <thead>\n",
       "    <tr style=\"text-align: right;\">\n",
       "      <th></th>\n",
       "      <th>code_zone_iso3</th>\n",
       "      <th>zone</th>\n",
       "      <th>alim_touristes</th>\n",
       "      <th>autres_utilisations</th>\n",
       "      <th>dispo_alim_kcal_pers_jour</th>\n",
       "      <th>dispo_alim_kg_pers_an</th>\n",
       "      <th>dispo_matiere_grasse_g_pers_jour</th>\n",
       "      <th>dispo_proteines_g_pers_jour</th>\n",
       "      <th>dispo_int</th>\n",
       "      <th>exportations</th>\n",
       "      <th>...</th>\n",
       "      <th>country_code</th>\n",
       "      <th>control_of_corruption</th>\n",
       "      <th>government_effectiveness</th>\n",
       "      <th>political_stability</th>\n",
       "      <th>regulatory_quality</th>\n",
       "      <th>rule_of_law</th>\n",
       "      <th>voice_and_accountability</th>\n",
       "      <th>latitude</th>\n",
       "      <th>longitude</th>\n",
       "      <th>distance_to_france</th>\n",
       "    </tr>\n",
       "  </thead>\n",
       "  <tbody>\n",
       "    <tr>\n",
       "      <th>164</th>\n",
       "      <td>TWN</td>\n",
       "      <td>Chine, Taiwan Province de</td>\n",
       "      <td>NaN</td>\n",
       "      <td>0.0</td>\n",
       "      <td>127.0</td>\n",
       "      <td>33.43</td>\n",
       "      <td>8.85</td>\n",
       "      <td>11.1</td>\n",
       "      <td>792.0</td>\n",
       "      <td>8.0</td>\n",
       "      <td>...</td>\n",
       "      <td>TWN</td>\n",
       "      <td>0.960353</td>\n",
       "      <td>1.259075</td>\n",
       "      <td>0.864722</td>\n",
       "      <td>1.367421</td>\n",
       "      <td>1.13207</td>\n",
       "      <td>1.015749</td>\n",
       "      <td>23.69781</td>\n",
       "      <td>120.960515</td>\n",
       "      <td>10118.058647</td>\n",
       "    </tr>\n",
       "  </tbody>\n",
       "</table>\n",
       "<p>1 rows × 33 columns</p>\n",
       "</div>"
      ],
      "text/plain": [
       "    code_zone_iso3                       zone  alim_touristes  \\\n",
       "164            TWN  Chine, Taiwan Province de             NaN   \n",
       "\n",
       "     autres_utilisations  dispo_alim_kcal_pers_jour  dispo_alim_kg_pers_an  \\\n",
       "164                  0.0                      127.0                  33.43   \n",
       "\n",
       "     dispo_matiere_grasse_g_pers_jour  dispo_proteines_g_pers_jour  dispo_int  \\\n",
       "164                              8.85                         11.1      792.0   \n",
       "\n",
       "     exportations  ...  country_code  control_of_corruption  \\\n",
       "164           8.0  ...           TWN               0.960353   \n",
       "\n",
       "     government_effectiveness  political_stability  regulatory_quality  \\\n",
       "164                  1.259075             0.864722            1.367421   \n",
       "\n",
       "     rule_of_law  voice_and_accountability  latitude   longitude  \\\n",
       "164      1.13207                  1.015749  23.69781  120.960515   \n",
       "\n",
       "     distance_to_france  \n",
       "164        10118.058647  \n",
       "\n",
       "[1 rows x 33 columns]"
      ]
     },
     "execution_count": 102,
     "metadata": {},
     "output_type": "execute_result"
    }
   ],
   "source": [
    "mask = data['pib_M_usd'].isna()\n",
    "data.loc[mask]"
   ]
  },
  {
   "cell_type": "markdown",
   "id": "3f5ca7c3",
   "metadata": {},
   "source": [
    "On peut retrouver le montant du PIB (en millions de dollars) de Taiwan pour l'année 2017 sur internet.<br>\n",
    "Source : https://fr.countryeconomy.com/gouvernement/pib/taiwan"
   ]
  },
  {
   "cell_type": "code",
   "execution_count": 103,
   "id": "860233dc",
   "metadata": {},
   "outputs": [],
   "source": [
    "mask = data['code_zone_iso3'] == 'TWN'\n",
    "data.loc[mask, 'pib_M_usd'] = 590733"
   ]
  },
  {
   "cell_type": "markdown",
   "id": "2f7dc8da",
   "metadata": {},
   "source": [
    "### Indicateurs de gouvernance"
   ]
  },
  {
   "cell_type": "code",
   "execution_count": 104,
   "id": "98bbaecb",
   "metadata": {},
   "outputs": [
    {
     "data": {
      "text/html": [
       "<div>\n",
       "<style scoped>\n",
       "    .dataframe tbody tr th:only-of-type {\n",
       "        vertical-align: middle;\n",
       "    }\n",
       "\n",
       "    .dataframe tbody tr th {\n",
       "        vertical-align: top;\n",
       "    }\n",
       "\n",
       "    .dataframe thead th {\n",
       "        text-align: right;\n",
       "    }\n",
       "</style>\n",
       "<table border=\"1\" class=\"dataframe\">\n",
       "  <thead>\n",
       "    <tr style=\"text-align: right;\">\n",
       "      <th></th>\n",
       "      <th>code_zone_iso3</th>\n",
       "      <th>zone</th>\n",
       "      <th>alim_touristes</th>\n",
       "      <th>autres_utilisations</th>\n",
       "      <th>dispo_alim_kcal_pers_jour</th>\n",
       "      <th>dispo_alim_kg_pers_an</th>\n",
       "      <th>dispo_matiere_grasse_g_pers_jour</th>\n",
       "      <th>dispo_proteines_g_pers_jour</th>\n",
       "      <th>dispo_int</th>\n",
       "      <th>exportations</th>\n",
       "      <th>...</th>\n",
       "      <th>country_code</th>\n",
       "      <th>control_of_corruption</th>\n",
       "      <th>government_effectiveness</th>\n",
       "      <th>political_stability</th>\n",
       "      <th>regulatory_quality</th>\n",
       "      <th>rule_of_law</th>\n",
       "      <th>voice_and_accountability</th>\n",
       "      <th>latitude</th>\n",
       "      <th>longitude</th>\n",
       "      <th>distance_to_france</th>\n",
       "    </tr>\n",
       "  </thead>\n",
       "  <tbody>\n",
       "    <tr>\n",
       "      <th>51</th>\n",
       "      <td>F41</td>\n",
       "      <td>Chine, continentale</td>\n",
       "      <td>NaN</td>\n",
       "      <td>NaN</td>\n",
       "      <td>64.0</td>\n",
       "      <td>13.60</td>\n",
       "      <td>4.98</td>\n",
       "      <td>4.38</td>\n",
       "      <td>18992.0</td>\n",
       "      <td>576.0</td>\n",
       "      <td>...</td>\n",
       "      <td>NaN</td>\n",
       "      <td>NaN</td>\n",
       "      <td>NaN</td>\n",
       "      <td>NaN</td>\n",
       "      <td>NaN</td>\n",
       "      <td>NaN</td>\n",
       "      <td>NaN</td>\n",
       "      <td>NaN</td>\n",
       "      <td>NaN</td>\n",
       "      <td>NaN</td>\n",
       "    </tr>\n",
       "    <tr>\n",
       "      <th>118</th>\n",
       "      <td>NCL</td>\n",
       "      <td>Nouvelle-Calédonie</td>\n",
       "      <td>0.0</td>\n",
       "      <td>NaN</td>\n",
       "      <td>128.0</td>\n",
       "      <td>36.62</td>\n",
       "      <td>7.90</td>\n",
       "      <td>13.35</td>\n",
       "      <td>10.0</td>\n",
       "      <td>0.0</td>\n",
       "      <td>...</td>\n",
       "      <td>NaN</td>\n",
       "      <td>NaN</td>\n",
       "      <td>NaN</td>\n",
       "      <td>NaN</td>\n",
       "      <td>NaN</td>\n",
       "      <td>NaN</td>\n",
       "      <td>NaN</td>\n",
       "      <td>-20.904305</td>\n",
       "      <td>165.618042</td>\n",
       "      <td>16820.062010</td>\n",
       "    </tr>\n",
       "    <tr>\n",
       "      <th>136</th>\n",
       "      <td>PYF</td>\n",
       "      <td>Polynésie française</td>\n",
       "      <td>2.0</td>\n",
       "      <td>0.0</td>\n",
       "      <td>171.0</td>\n",
       "      <td>48.56</td>\n",
       "      <td>11.11</td>\n",
       "      <td>16.59</td>\n",
       "      <td>15.0</td>\n",
       "      <td>0.0</td>\n",
       "      <td>...</td>\n",
       "      <td>NaN</td>\n",
       "      <td>NaN</td>\n",
       "      <td>NaN</td>\n",
       "      <td>NaN</td>\n",
       "      <td>NaN</td>\n",
       "      <td>NaN</td>\n",
       "      <td>NaN</td>\n",
       "      <td>-17.679742</td>\n",
       "      <td>-149.406843</td>\n",
       "      <td>15908.061362</td>\n",
       "    </tr>\n",
       "  </tbody>\n",
       "</table>\n",
       "<p>3 rows × 33 columns</p>\n",
       "</div>"
      ],
      "text/plain": [
       "    code_zone_iso3                 zone  alim_touristes  autres_utilisations  \\\n",
       "51             F41  Chine, continentale             NaN                  NaN   \n",
       "118            NCL   Nouvelle-Calédonie             0.0                  NaN   \n",
       "136            PYF  Polynésie française             2.0                  0.0   \n",
       "\n",
       "     dispo_alim_kcal_pers_jour  dispo_alim_kg_pers_an  \\\n",
       "51                        64.0                  13.60   \n",
       "118                      128.0                  36.62   \n",
       "136                      171.0                  48.56   \n",
       "\n",
       "     dispo_matiere_grasse_g_pers_jour  dispo_proteines_g_pers_jour  dispo_int  \\\n",
       "51                               4.98                         4.38    18992.0   \n",
       "118                              7.90                        13.35       10.0   \n",
       "136                             11.11                        16.59       15.0   \n",
       "\n",
       "     exportations  ...  country_code  control_of_corruption  \\\n",
       "51          576.0  ...           NaN                    NaN   \n",
       "118           0.0  ...           NaN                    NaN   \n",
       "136           0.0  ...           NaN                    NaN   \n",
       "\n",
       "     government_effectiveness  political_stability  regulatory_quality  \\\n",
       "51                        NaN                  NaN                 NaN   \n",
       "118                       NaN                  NaN                 NaN   \n",
       "136                       NaN                  NaN                 NaN   \n",
       "\n",
       "     rule_of_law  voice_and_accountability   latitude   longitude  \\\n",
       "51           NaN                       NaN        NaN         NaN   \n",
       "118          NaN                       NaN -20.904305  165.618042   \n",
       "136          NaN                       NaN -17.679742 -149.406843   \n",
       "\n",
       "     distance_to_france  \n",
       "51                  NaN  \n",
       "118        16820.062010  \n",
       "136        15908.061362  \n",
       "\n",
       "[3 rows x 33 columns]"
      ]
     },
     "execution_count": 104,
     "metadata": {},
     "output_type": "execute_result"
    }
   ],
   "source": [
    "mask = data['control_of_corruption'].isna()\n",
    "data.loc[mask, :]"
   ]
  },
  {
   "cell_type": "markdown",
   "id": "d041c3b3",
   "metadata": {},
   "source": [
    "On peut imputer les valeurs de la Chine continentale par celle de la Chine, et celles de la Nouvelle-Calédonie et de la Polynésie Française par celles de la France."
   ]
  },
  {
   "cell_type": "code",
   "execution_count": 105,
   "id": "bc56f789",
   "metadata": {},
   "outputs": [],
   "source": [
    "cols = [\n",
    "    'control_of_corruption', 'government_effectiveness', 'political_stability',\n",
    "    'regulatory_quality', 'rule_of_law', 'voice_and_accountability'\n",
    "]"
   ]
  },
  {
   "cell_type": "code",
   "execution_count": 106,
   "id": "38c515e9",
   "metadata": {},
   "outputs": [],
   "source": [
    "data.loc[data['code_zone_iso3'] == 'F41', cols] = data.loc[data['code_zone_iso3'] == 'CHN', cols].values\n",
    "data.loc[data['code_zone_iso3'].isin(['NCL', 'PYF']), cols] = data.loc[data['code_zone_iso3'] == 'FRA', cols].values"
   ]
  },
  {
   "cell_type": "markdown",
   "id": "bd94f880",
   "metadata": {},
   "source": [
    "On supprime les variables `country_name` et `country_code` qui sont redondantes."
   ]
  },
  {
   "cell_type": "code",
   "execution_count": 107,
   "id": "5b25ed7e",
   "metadata": {},
   "outputs": [],
   "source": [
    "data.drop(['country_name', 'country_code'], axis=1, inplace=True)"
   ]
  },
  {
   "cell_type": "markdown",
   "id": "62d7bcba",
   "metadata": {},
   "source": [
    "### Latitude et longitude"
   ]
  },
  {
   "cell_type": "code",
   "execution_count": 108,
   "id": "a0aad569",
   "metadata": {},
   "outputs": [
    {
     "data": {
      "text/html": [
       "<div>\n",
       "<style scoped>\n",
       "    .dataframe tbody tr th:only-of-type {\n",
       "        vertical-align: middle;\n",
       "    }\n",
       "\n",
       "    .dataframe tbody tr th {\n",
       "        vertical-align: top;\n",
       "    }\n",
       "\n",
       "    .dataframe thead th {\n",
       "        text-align: right;\n",
       "    }\n",
       "</style>\n",
       "<table border=\"1\" class=\"dataframe\">\n",
       "  <thead>\n",
       "    <tr style=\"text-align: right;\">\n",
       "      <th></th>\n",
       "      <th>code_zone_iso3</th>\n",
       "      <th>zone</th>\n",
       "      <th>alim_touristes</th>\n",
       "      <th>autres_utilisations</th>\n",
       "      <th>dispo_alim_kcal_pers_jour</th>\n",
       "      <th>dispo_alim_kg_pers_an</th>\n",
       "      <th>dispo_matiere_grasse_g_pers_jour</th>\n",
       "      <th>dispo_proteines_g_pers_jour</th>\n",
       "      <th>dispo_int</th>\n",
       "      <th>exportations</th>\n",
       "      <th>...</th>\n",
       "      <th>pib_M_usd</th>\n",
       "      <th>control_of_corruption</th>\n",
       "      <th>government_effectiveness</th>\n",
       "      <th>political_stability</th>\n",
       "      <th>regulatory_quality</th>\n",
       "      <th>rule_of_law</th>\n",
       "      <th>voice_and_accountability</th>\n",
       "      <th>latitude</th>\n",
       "      <th>longitude</th>\n",
       "      <th>distance_to_france</th>\n",
       "    </tr>\n",
       "  </thead>\n",
       "  <tbody>\n",
       "    <tr>\n",
       "      <th>51</th>\n",
       "      <td>F41</td>\n",
       "      <td>Chine, continentale</td>\n",
       "      <td>NaN</td>\n",
       "      <td>NaN</td>\n",
       "      <td>64.0</td>\n",
       "      <td>13.60</td>\n",
       "      <td>4.98</td>\n",
       "      <td>4.38</td>\n",
       "      <td>18992.0</td>\n",
       "      <td>576.0</td>\n",
       "      <td>...</td>\n",
       "      <td>1.231049e+07</td>\n",
       "      <td>-0.266228</td>\n",
       "      <td>0.438617</td>\n",
       "      <td>-0.231018</td>\n",
       "      <td>-0.164307</td>\n",
       "      <td>-0.237702</td>\n",
       "      <td>-1.503730</td>\n",
       "      <td>NaN</td>\n",
       "      <td>NaN</td>\n",
       "      <td>NaN</td>\n",
       "    </tr>\n",
       "    <tr>\n",
       "      <th>117</th>\n",
       "      <td>NAM</td>\n",
       "      <td>Namibie</td>\n",
       "      <td>NaN</td>\n",
       "      <td>NaN</td>\n",
       "      <td>39.0</td>\n",
       "      <td>11.36</td>\n",
       "      <td>2.35</td>\n",
       "      <td>4.18</td>\n",
       "      <td>27.0</td>\n",
       "      <td>12.0</td>\n",
       "      <td>...</td>\n",
       "      <td>1.288750e+04</td>\n",
       "      <td>0.290750</td>\n",
       "      <td>0.259862</td>\n",
       "      <td>0.628352</td>\n",
       "      <td>-0.103186</td>\n",
       "      <td>0.298591</td>\n",
       "      <td>0.550321</td>\n",
       "      <td>NaN</td>\n",
       "      <td>NaN</td>\n",
       "      <td>NaN</td>\n",
       "    </tr>\n",
       "  </tbody>\n",
       "</table>\n",
       "<p>2 rows × 31 columns</p>\n",
       "</div>"
      ],
      "text/plain": [
       "    code_zone_iso3                 zone  alim_touristes  autres_utilisations  \\\n",
       "51             F41  Chine, continentale             NaN                  NaN   \n",
       "117            NAM              Namibie             NaN                  NaN   \n",
       "\n",
       "     dispo_alim_kcal_pers_jour  dispo_alim_kg_pers_an  \\\n",
       "51                        64.0                  13.60   \n",
       "117                       39.0                  11.36   \n",
       "\n",
       "     dispo_matiere_grasse_g_pers_jour  dispo_proteines_g_pers_jour  dispo_int  \\\n",
       "51                               4.98                         4.38    18992.0   \n",
       "117                              2.35                         4.18       27.0   \n",
       "\n",
       "     exportations  ...     pib_M_usd  control_of_corruption  \\\n",
       "51          576.0  ...  1.231049e+07              -0.266228   \n",
       "117          12.0  ...  1.288750e+04               0.290750   \n",
       "\n",
       "     government_effectiveness  political_stability  regulatory_quality  \\\n",
       "51                   0.438617            -0.231018           -0.164307   \n",
       "117                  0.259862             0.628352           -0.103186   \n",
       "\n",
       "     rule_of_law  voice_and_accountability  latitude  longitude  \\\n",
       "51     -0.237702                 -1.503730       NaN        NaN   \n",
       "117     0.298591                  0.550321       NaN        NaN   \n",
       "\n",
       "     distance_to_france  \n",
       "51                  NaN  \n",
       "117                 NaN  \n",
       "\n",
       "[2 rows x 31 columns]"
      ]
     },
     "execution_count": 108,
     "metadata": {},
     "output_type": "execute_result"
    }
   ],
   "source": [
    "mask = data['latitude'].isna()\n",
    "data.loc[mask]"
   ]
  },
  {
   "cell_type": "markdown",
   "id": "d8615c2d",
   "metadata": {},
   "source": [
    "On peut imputer les valeurs de la Chine continentale par celles de la Chine."
   ]
  },
  {
   "cell_type": "code",
   "execution_count": 109,
   "id": "a875c94f",
   "metadata": {},
   "outputs": [],
   "source": [
    "cols = ['latitude', 'longitude', 'distance_to_france']\n",
    "\n",
    "data.loc[data['code_zone_iso3'] == 'F41', cols] = data.loc[data['code_zone_iso3'] == 'CHN', cols].values"
   ]
  },
  {
   "cell_type": "markdown",
   "id": "9c37b705",
   "metadata": {},
   "source": [
    "On peut retrouver les coordonnées de la Namibie sur internet.<br>\n",
    "Source : https://www.geodatos.net/en/coordinates/namibia"
   ]
  },
  {
   "cell_type": "code",
   "execution_count": 110,
   "id": "aa4f3f24",
   "metadata": {},
   "outputs": [],
   "source": [
    "namibie = (-22.95764, 18.49041)\n",
    "france = get_coords('France')\n",
    "dist = distance.distance(france, namibie).km"
   ]
  },
  {
   "cell_type": "code",
   "execution_count": 111,
   "id": "9863659b",
   "metadata": {},
   "outputs": [],
   "source": [
    "data.loc[data['code_zone_iso3'] == 'NAM', cols] = [-22.95764, 18.49041, dist]"
   ]
  },
  {
   "cell_type": "markdown",
   "id": "14ceff10",
   "metadata": {},
   "source": [
    "## Sélection finale des variables"
   ]
  },
  {
   "cell_type": "code",
   "execution_count": 112,
   "id": "ae8d8820",
   "metadata": {},
   "outputs": [
    {
     "data": {
      "text/plain": [
       "code_zone_iso3                      0.000000\n",
       "zone                                0.000000\n",
       "alim_touristes                      0.766667\n",
       "autres_utilisations                 0.816667\n",
       "dispo_alim_kcal_pers_jour           0.000000\n",
       "dispo_alim_kg_pers_an               0.000000\n",
       "dispo_matiere_grasse_g_pers_jour    0.000000\n",
       "dispo_proteines_g_pers_jour         0.000000\n",
       "dispo_int                           0.000000\n",
       "exportations                        0.000000\n",
       "importations                        0.000000\n",
       "nourriture                          0.000000\n",
       "pertes                              0.811111\n",
       "production                          0.000000\n",
       "residus                             0.000000\n",
       "traitement                          0.816667\n",
       "variation_de_stock                  0.000000\n",
       "dispo_alim_vol_pct                  0.000000\n",
       "import_tot_pct                      0.000000\n",
       "population_m                        0.000000\n",
       "taux_croissance_pop                 0.000000\n",
       "pib_M_usd                           0.000000\n",
       "control_of_corruption               0.000000\n",
       "government_effectiveness            0.000000\n",
       "political_stability                 0.000000\n",
       "regulatory_quality                  0.000000\n",
       "rule_of_law                         0.000000\n",
       "voice_and_accountability            0.000000\n",
       "latitude                            0.000000\n",
       "longitude                           0.000000\n",
       "distance_to_france                  0.000000\n",
       "dtype: float64"
      ]
     },
     "execution_count": 112,
     "metadata": {},
     "output_type": "execute_result"
    }
   ],
   "source": [
    "data.isna().mean()"
   ]
  },
  {
   "cell_type": "code",
   "execution_count": 113,
   "id": "4341c088",
   "metadata": {},
   "outputs": [],
   "source": [
    "# on ne conserve que les colonnes n'ayant plus de valeurs manquantes\n",
    "data = data.loc[:, (data.isna().mean() == 0)].copy()"
   ]
  },
  {
   "cell_type": "code",
   "execution_count": 114,
   "id": "1ebc2845",
   "metadata": {},
   "outputs": [
    {
     "data": {
      "image/png": "[encoded data removed]",
      "text/plain": [
       "<Figure size 576x576 with 2 Axes>"
      ]
     },
     "metadata": {
      "needs_background": "light"
     },
     "output_type": "display_data"
    }
   ],
   "source": [
    "fig, ax = plt.subplots(figsize=(8, 8))\n",
    "\n",
    "sns.heatmap(data.corr(), vmin=-1, vmax=1, cmap='coolwarm', square=True)\n",
    "\n",
    "plt.show()"
   ]
  },
  {
   "cell_type": "markdown",
   "id": "cf105371",
   "metadata": {},
   "source": [
    "Sans surprise, les variables représentant la disponiblité alimentaire de la viande de volailles dans différentes unités sont très corrélées. De même, la part de la viande de volailles dans la disponiblité alimentaire totale `dispo_alim_vol_pct` semble redondante avec la disponibilité alimentaire de la viande de volailles. On choisit de ne conserver qu'une seule de ces variables."
   ]
  },
  {
   "cell_type": "code",
   "execution_count": 115,
   "id": "b48b618e",
   "metadata": {},
   "outputs": [],
   "source": [
    "cols = [\n",
    "    'dispo_alim_kcal_pers_jour', 'dispo_matiere_grasse_g_pers_jour',\n",
    "    'dispo_proteines_g_pers_jour', 'dispo_alim_vol_pct'\n",
    "]\n",
    "\n",
    "data.drop(columns=cols, inplace=True)"
   ]
  },
  {
   "cell_type": "markdown",
   "id": "732a0377",
   "metadata": {},
   "source": [
    "Les indicateurs de gouvernance sont eux aussi très corrélés. On choisit de ne conserver que la stabilité politique (`political_stability`)."
   ]
  },
  {
   "cell_type": "code",
   "execution_count": 116,
   "id": "48589da1",
   "metadata": {},
   "outputs": [],
   "source": [
    "cols = [\n",
    "    'control_of_corruption', 'government_effectiveness', 'regulatory_quality',\n",
    "    'rule_of_law', 'voice_and_accountability'\n",
    "]\n",
    "\n",
    "data.drop(columns=cols, inplace=True)"
   ]
  },
  {
   "cell_type": "markdown",
   "id": "b11d269f",
   "metadata": {},
   "source": [
    "On supprime également les colonnes `latitude` et `longitude` pour ne conserver que la distance à la France."
   ]
  },
  {
   "cell_type": "code",
   "execution_count": 117,
   "id": "4834c2a1",
   "metadata": {},
   "outputs": [],
   "source": [
    "cols = ['latitude', 'longitude']\n",
    "data.drop(columns=cols, inplace=True)"
   ]
  },
  {
   "cell_type": "markdown",
   "id": "8e01e1da",
   "metadata": {},
   "source": [
    "Les variables décomposant l'utilisation de la disponibilité intérieure (alimentation pour touristes, autres utilisations, nourriture, etc.) n'ont pas d'intérêt dans le contexte de notre étude de marché. Il en va de même pour la variable `variation_de_stock`. On choisit de les supprimer."
   ]
  },
  {
   "cell_type": "code",
   "execution_count": 118,
   "id": "4bc57463",
   "metadata": {},
   "outputs": [],
   "source": [
    "cols = ['nourriture', 'residus', 'variation_de_stock']\n",
    "\n",
    "data.drop(columns=cols, inplace=True)"
   ]
  },
  {
   "cell_type": "code",
   "execution_count": 119,
   "id": "43915951",
   "metadata": {},
   "outputs": [
    {
     "data": {
      "text/plain": [
       "code_zone_iso3           0.0\n",
       "zone                     0.0\n",
       "dispo_alim_kg_pers_an    0.0\n",
       "dispo_int                0.0\n",
       "exportations             0.0\n",
       "importations             0.0\n",
       "production               0.0\n",
       "import_tot_pct           0.0\n",
       "population_m             0.0\n",
       "taux_croissance_pop      0.0\n",
       "pib_M_usd                0.0\n",
       "political_stability      0.0\n",
       "distance_to_france       0.0\n",
       "dtype: float64"
      ]
     },
     "execution_count": 119,
     "metadata": {},
     "output_type": "execute_result"
    }
   ],
   "source": [
    "data.isna().mean()"
   ]
  },
  {
   "cell_type": "markdown",
   "id": "9475b525",
   "metadata": {},
   "source": [
    "Le PIB est très corrélé avec la population. Il peut être intéressant de le rapporter à la population pour obtenir un indicateur du niveau de vie des pays."
   ]
  },
  {
   "cell_type": "code",
   "execution_count": 120,
   "id": "e28ef6f4",
   "metadata": {},
   "outputs": [],
   "source": [
    "data['pib_usd_pers'] = (data['pib_M_usd'] * 1e6) / (data['population_m'] * 1e3)"
   ]
  },
  {
   "cell_type": "code",
   "execution_count": 121,
   "id": "b80f822e",
   "metadata": {},
   "outputs": [
    {
     "data": {
      "text/plain": [
       "Index(['code_zone_iso3', 'zone', 'dispo_alim_kg_pers_an', 'dispo_int',\n",
       "       'exportations', 'importations', 'production', 'import_tot_pct',\n",
       "       'population_m', 'taux_croissance_pop', 'pib_M_usd',\n",
       "       'political_stability', 'distance_to_france', 'pib_usd_pers'],\n",
       "      dtype='object')"
      ]
     },
     "execution_count": 121,
     "metadata": {},
     "output_type": "execute_result"
    }
   ],
   "source": [
    "data.columns"
   ]
  },
  {
   "cell_type": "code",
   "execution_count": 122,
   "id": "84634956",
   "metadata": {},
   "outputs": [],
   "source": [
    "data.rename(\n",
    "    columns={\n",
    "        'dispo_alim_kg_pers_an': 'dispo_alim_vol_kg_pers_an',\n",
    "        'dispo_int': 'dispo_int_vol_kt',\n",
    "        'production': 'prod_vol_kt',\n",
    "        'importations': 'import_vol_kt',\n",
    "        'political_stability': 'pol_stab',\n",
    "        'distance_to_france':'dist_to_france'\n",
    "    },\n",
    "    inplace=True\n",
    ")"
   ]
  },
  {
   "cell_type": "code",
   "execution_count": 123,
   "id": "fc0c05c5",
   "metadata": {},
   "outputs": [],
   "source": [
    "# sélection finale des variables\n",
    "cols = [\n",
    "    'code_zone_iso3', 'zone', 'dispo_alim_vol_kg_pers_an', 'dispo_int_vol_kt',\n",
    "    'population_m', 'pib_M_usd', 'pib_usd_pers', 'prod_vol_kt', 'import_vol_kt',\n",
    "    'import_tot_pct', 'taux_croissance_pop',  'pol_stab', 'dist_to_france'\n",
    "]\n",
    "\n",
    "data_cleaned = data[cols].copy()"
   ]
  },
  {
   "cell_type": "code",
   "execution_count": 124,
   "id": "c0f93a36",
   "metadata": {},
   "outputs": [],
   "source": [
    "# exportation des données\n",
    "data_cleaned.to_csv(path_or_buf='../data/data_cleaned.csv', index=False)"
   ]
  },
  {
   "cell_type": "code",
   "execution_count": 125,
   "id": "b076e502",
   "metadata": {},
   "outputs": [
    {
     "data": {
      "image/png": "[encoded data removed]",
      "text/plain": [
       "<Figure size 576x576 with 2 Axes>"
      ]
     },
     "metadata": {
      "needs_background": "light"
     },
     "output_type": "display_data"
    }
   ],
   "source": [
    "fig, ax = plt.subplots(figsize=(8, 8))\n",
    "\n",
    "sns.heatmap(data_cleaned.corr(), vmin=-1, vmax=1, cmap='coolwarm', square=True)\n",
    "\n",
    "plt.show()"
   ]
  }
 ],
 "metadata": {
  "kernelspec": {
   "display_name": "Python 3 (ipykernel)",
   "language": "python",
   "name": "python3"
  },
  "language_info": {
   "codemirror_mode": {
    "name": "ipython",
    "version": 3
   },
   "file_extension": ".py",
   "mimetype": "text/x-python",
   "name": "python",
   "nbconvert_exporter": "python",
   "pygments_lexer": "ipython3",
   "version": "3.9.12"
  },
  "toc": {
   "base_numbering": 1,
   "nav_menu": {},
   "number_sections": true,
   "sideBar": true,
   "skip_h1_title": false,
   "title_cell": "Table of Contents",
   "title_sidebar": "Contents",
   "toc_cell": true,
   "toc_position": {
    "height": "calc(100% - 180px)",
    "left": "10px",
    "top": "150px",
    "width": "512px"
   },
   "toc_section_display": true,
   "toc_window_display": true
  },
  "toc-autonumbering": true
 },
 "nbformat": 4,
 "nbformat_minor": 5
}
